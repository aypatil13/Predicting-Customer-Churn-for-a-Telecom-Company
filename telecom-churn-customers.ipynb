{
 "cells": [
  {
   "cell_type": "markdown",
   "id": "3666aeaf",
   "metadata": {
    "execution": {
     "iopub.execute_input": "2023-01-22T05:01:15.336529Z",
     "iopub.status.busy": "2023-01-22T05:01:15.335966Z",
     "iopub.status.idle": "2023-01-22T05:01:15.345015Z",
     "shell.execute_reply": "2023-01-22T05:01:15.343243Z",
     "shell.execute_reply.started": "2023-01-22T05:01:15.336481Z"
    },
    "papermill": {
     "duration": 0.021802,
     "end_time": "2023-01-22T05:50:55.572706",
     "exception": false,
     "start_time": "2023-01-22T05:50:55.550904",
     "status": "completed"
    },
    "tags": []
   },
   "source": [
    "<h1 style='text-align:center'> Telecom Churn Customers </h1>\n",
    "\n",
    "**Dataset from:** mavenanalytics.io \n",
    "\n",
    "**Description:** The project is to analyze the data and find the reason why customers churned from company. There are 2 services in telecom business: phone and internet service. In this project, I will split the customer status into 3 groups: Phone service only, Internet service only and both Phone and Internet. In this project, I do:\n",
    "- Read the definition of each column\n",
    "- Imported dataset into Jupyter by using pandas\n",
    "- Figured out if there is any duplicated values, null values\n",
    "- Used one-hot encoding in some columns to find the correlation\n",
    "- Used seaborn for sketching the heatmap to find the correlation between columns\n",
    "- Split customers into 3 categories: churned, stayed, and joined\n",
    "- Analyzed the data and compared the category to find the reason why customers churned\n",
    "- Showing the relationship between values by drawing the scatterplot\n",
    "\n",
    "**Goal:**\n",
    "- Find how many customers in each customer category (churned, stayed, joined) and its percentage\n",
    "- Find how many offers group by each customer category\n",
    "- Find how many referrals group by each customer category\n",
    "- Find the average age group by each customer category\n",
    "- Find the married status of each customer category\n",
    "- Find the churn reason group by churn category\n",
    "- For each service (Phone only, Internet only, Both services):\n",
    "    - How many customers group by customer category?\n",
    "    - How many offers did customers enroll?\n",
    "    - Which reasons did customers decide to churn?\n",
    "    - How much extra charge did customers pay?\n",
    "    - Compare number of dependents of churned and stayed customers\n",
    "    - Compare total charge of churned and stayed customers (use scatterplot to compare)\n",
    "\n"
   ]
  },
  {
   "cell_type": "code",
   "execution_count": null,
   "id": "29db774b",
   "metadata": {
    "papermill": {
     "duration": 0.019306,
     "end_time": "2023-01-22T05:50:55.611583",
     "exception": false,
     "start_time": "2023-01-22T05:50:55.592277",
     "status": "completed"
    },
    "tags": []
   },
   "outputs": [],
   "source": []
  },
  {
   "cell_type": "code",
   "execution_count": 1,
   "id": "2fac1da8",
   "metadata": {
    "execution": {
     "iopub.execute_input": "2023-01-22T05:50:55.652589Z",
     "iopub.status.busy": "2023-01-22T05:50:55.652134Z",
     "iopub.status.idle": "2023-01-22T05:50:56.625140Z",
     "shell.execute_reply": "2023-01-22T05:50:56.624213Z"
    },
    "papermill": {
     "duration": 0.99681,
     "end_time": "2023-01-22T05:50:56.627974",
     "exception": false,
     "start_time": "2023-01-22T05:50:55.631164",
     "status": "completed"
    },
    "tags": []
   },
   "outputs": [],
   "source": [
    "import pandas as pd\n",
    "import numpy as np\n",
    "import seaborn as sns\n",
    "import matplotlib.pyplot as plt\n",
    "%matplotlib inline"
   ]
  },
  {
   "cell_type": "code",
   "execution_count": 2,
   "id": "52128a42",
   "metadata": {
    "execution": {
     "iopub.execute_input": "2023-01-22T05:50:56.669297Z",
     "iopub.status.busy": "2023-01-22T05:50:56.668739Z",
     "iopub.status.idle": "2023-01-22T05:50:56.750493Z",
     "shell.execute_reply": "2023-01-22T05:50:56.749458Z"
    },
    "papermill": {
     "duration": 0.105247,
     "end_time": "2023-01-22T05:50:56.753116",
     "exception": false,
     "start_time": "2023-01-22T05:50:56.647869",
     "status": "completed"
    },
    "tags": []
   },
   "outputs": [],
   "source": [
    "df = pd.read_csv('/kaggle/input/telecom-customer-churn-by-maven-analytics/telecom_customer_churn.csv')"
   ]
  },
  {
   "cell_type": "code",
   "execution_count": 3,
   "id": "9ca27ff1",
   "metadata": {
    "execution": {
     "iopub.execute_input": "2023-01-22T05:50:56.794065Z",
     "iopub.status.busy": "2023-01-22T05:50:56.793681Z",
     "iopub.status.idle": "2023-01-22T05:50:56.830031Z",
     "shell.execute_reply": "2023-01-22T05:50:56.828800Z"
    },
    "papermill": {
     "duration": 0.060521,
     "end_time": "2023-01-22T05:50:56.833329",
     "exception": false,
     "start_time": "2023-01-22T05:50:56.772808",
     "status": "completed"
    },
    "tags": []
   },
   "outputs": [
    {
     "name": "stdout",
     "output_type": "stream",
     "text": [
      "<class 'pandas.core.frame.DataFrame'>\n",
      "RangeIndex: 7043 entries, 0 to 7042\n",
      "Data columns (total 38 columns):\n",
      " #   Column                             Non-Null Count  Dtype  \n",
      "---  ------                             --------------  -----  \n",
      " 0   Customer ID                        7043 non-null   object \n",
      " 1   Gender                             7043 non-null   object \n",
      " 2   Age                                7043 non-null   int64  \n",
      " 3   Married                            7043 non-null   object \n",
      " 4   Number of Dependents               7043 non-null   int64  \n",
      " 5   City                               7043 non-null   object \n",
      " 6   Zip Code                           7043 non-null   int64  \n",
      " 7   Latitude                           7043 non-null   float64\n",
      " 8   Longitude                          7043 non-null   float64\n",
      " 9   Number of Referrals                7043 non-null   int64  \n",
      " 10  Tenure in Months                   7043 non-null   int64  \n",
      " 11  Offer                              7043 non-null   object \n",
      " 12  Phone Service                      7043 non-null   object \n",
      " 13  Avg Monthly Long Distance Charges  6361 non-null   float64\n",
      " 14  Multiple Lines                     6361 non-null   object \n",
      " 15  Internet Service                   7043 non-null   object \n",
      " 16  Internet Type                      5517 non-null   object \n",
      " 17  Avg Monthly GB Download            5517 non-null   float64\n",
      " 18  Online Security                    5517 non-null   object \n",
      " 19  Online Backup                      5517 non-null   object \n",
      " 20  Device Protection Plan             5517 non-null   object \n",
      " 21  Premium Tech Support               5517 non-null   object \n",
      " 22  Streaming TV                       5517 non-null   object \n",
      " 23  Streaming Movies                   5517 non-null   object \n",
      " 24  Streaming Music                    5517 non-null   object \n",
      " 25  Unlimited Data                     5517 non-null   object \n",
      " 26  Contract                           7043 non-null   object \n",
      " 27  Paperless Billing                  7043 non-null   object \n",
      " 28  Payment Method                     7043 non-null   object \n",
      " 29  Monthly Charge                     7043 non-null   float64\n",
      " 30  Total Charges                      7043 non-null   float64\n",
      " 31  Total Refunds                      7043 non-null   float64\n",
      " 32  Total Extra Data Charges           7043 non-null   int64  \n",
      " 33  Total Long Distance Charges        7043 non-null   float64\n",
      " 34  Total Revenue                      7043 non-null   float64\n",
      " 35  Customer Status                    7043 non-null   object \n",
      " 36  Churn Category                     1869 non-null   object \n",
      " 37  Churn Reason                       1869 non-null   object \n",
      "dtypes: float64(9), int64(6), object(23)\n",
      "memory usage: 2.0+ MB\n"
     ]
    }
   ],
   "source": [
    "df.info()"
   ]
  },
  {
   "cell_type": "code",
   "execution_count": 4,
   "id": "88da75d9",
   "metadata": {
    "execution": {
     "iopub.execute_input": "2023-01-22T05:50:56.876238Z",
     "iopub.status.busy": "2023-01-22T05:50:56.875127Z",
     "iopub.status.idle": "2023-01-22T05:50:56.913959Z",
     "shell.execute_reply": "2023-01-22T05:50:56.913061Z"
    },
    "papermill": {
     "duration": 0.062231,
     "end_time": "2023-01-22T05:50:56.916056",
     "exception": false,
     "start_time": "2023-01-22T05:50:56.853825",
     "status": "completed"
    },
    "tags": []
   },
   "outputs": [
    {
     "data": {
      "text/html": [
       "<div>\n",
       "<style scoped>\n",
       "    .dataframe tbody tr th:only-of-type {\n",
       "        vertical-align: middle;\n",
       "    }\n",
       "\n",
       "    .dataframe tbody tr th {\n",
       "        vertical-align: top;\n",
       "    }\n",
       "\n",
       "    .dataframe thead th {\n",
       "        text-align: right;\n",
       "    }\n",
       "</style>\n",
       "<table border=\"1\" class=\"dataframe\">\n",
       "  <thead>\n",
       "    <tr style=\"text-align: right;\">\n",
       "      <th></th>\n",
       "      <th>Customer ID</th>\n",
       "      <th>Gender</th>\n",
       "      <th>Age</th>\n",
       "      <th>Married</th>\n",
       "      <th>Number of Dependents</th>\n",
       "      <th>City</th>\n",
       "      <th>Zip Code</th>\n",
       "      <th>Latitude</th>\n",
       "      <th>Longitude</th>\n",
       "      <th>Number of Referrals</th>\n",
       "      <th>...</th>\n",
       "      <th>Payment Method</th>\n",
       "      <th>Monthly Charge</th>\n",
       "      <th>Total Charges</th>\n",
       "      <th>Total Refunds</th>\n",
       "      <th>Total Extra Data Charges</th>\n",
       "      <th>Total Long Distance Charges</th>\n",
       "      <th>Total Revenue</th>\n",
       "      <th>Customer Status</th>\n",
       "      <th>Churn Category</th>\n",
       "      <th>Churn Reason</th>\n",
       "    </tr>\n",
       "  </thead>\n",
       "  <tbody>\n",
       "    <tr>\n",
       "      <th>0</th>\n",
       "      <td>0002-ORFBO</td>\n",
       "      <td>Female</td>\n",
       "      <td>37</td>\n",
       "      <td>Yes</td>\n",
       "      <td>0</td>\n",
       "      <td>Frazier Park</td>\n",
       "      <td>93225</td>\n",
       "      <td>34.827662</td>\n",
       "      <td>-118.999073</td>\n",
       "      <td>2</td>\n",
       "      <td>...</td>\n",
       "      <td>Credit Card</td>\n",
       "      <td>65.60</td>\n",
       "      <td>593.30</td>\n",
       "      <td>0.00</td>\n",
       "      <td>0</td>\n",
       "      <td>381.51</td>\n",
       "      <td>974.81</td>\n",
       "      <td>Stayed</td>\n",
       "      <td>NaN</td>\n",
       "      <td>NaN</td>\n",
       "    </tr>\n",
       "    <tr>\n",
       "      <th>1</th>\n",
       "      <td>0003-MKNFE</td>\n",
       "      <td>Male</td>\n",
       "      <td>46</td>\n",
       "      <td>No</td>\n",
       "      <td>0</td>\n",
       "      <td>Glendale</td>\n",
       "      <td>91206</td>\n",
       "      <td>34.162515</td>\n",
       "      <td>-118.203869</td>\n",
       "      <td>0</td>\n",
       "      <td>...</td>\n",
       "      <td>Credit Card</td>\n",
       "      <td>-4.00</td>\n",
       "      <td>542.40</td>\n",
       "      <td>38.33</td>\n",
       "      <td>10</td>\n",
       "      <td>96.21</td>\n",
       "      <td>610.28</td>\n",
       "      <td>Stayed</td>\n",
       "      <td>NaN</td>\n",
       "      <td>NaN</td>\n",
       "    </tr>\n",
       "    <tr>\n",
       "      <th>2</th>\n",
       "      <td>0004-TLHLJ</td>\n",
       "      <td>Male</td>\n",
       "      <td>50</td>\n",
       "      <td>No</td>\n",
       "      <td>0</td>\n",
       "      <td>Costa Mesa</td>\n",
       "      <td>92627</td>\n",
       "      <td>33.645672</td>\n",
       "      <td>-117.922613</td>\n",
       "      <td>0</td>\n",
       "      <td>...</td>\n",
       "      <td>Bank Withdrawal</td>\n",
       "      <td>73.90</td>\n",
       "      <td>280.85</td>\n",
       "      <td>0.00</td>\n",
       "      <td>0</td>\n",
       "      <td>134.60</td>\n",
       "      <td>415.45</td>\n",
       "      <td>Churned</td>\n",
       "      <td>Competitor</td>\n",
       "      <td>Competitor had better devices</td>\n",
       "    </tr>\n",
       "    <tr>\n",
       "      <th>3</th>\n",
       "      <td>0011-IGKFF</td>\n",
       "      <td>Male</td>\n",
       "      <td>78</td>\n",
       "      <td>Yes</td>\n",
       "      <td>0</td>\n",
       "      <td>Martinez</td>\n",
       "      <td>94553</td>\n",
       "      <td>38.014457</td>\n",
       "      <td>-122.115432</td>\n",
       "      <td>1</td>\n",
       "      <td>...</td>\n",
       "      <td>Bank Withdrawal</td>\n",
       "      <td>98.00</td>\n",
       "      <td>1237.85</td>\n",
       "      <td>0.00</td>\n",
       "      <td>0</td>\n",
       "      <td>361.66</td>\n",
       "      <td>1599.51</td>\n",
       "      <td>Churned</td>\n",
       "      <td>Dissatisfaction</td>\n",
       "      <td>Product dissatisfaction</td>\n",
       "    </tr>\n",
       "    <tr>\n",
       "      <th>4</th>\n",
       "      <td>0013-EXCHZ</td>\n",
       "      <td>Female</td>\n",
       "      <td>75</td>\n",
       "      <td>Yes</td>\n",
       "      <td>0</td>\n",
       "      <td>Camarillo</td>\n",
       "      <td>93010</td>\n",
       "      <td>34.227846</td>\n",
       "      <td>-119.079903</td>\n",
       "      <td>3</td>\n",
       "      <td>...</td>\n",
       "      <td>Credit Card</td>\n",
       "      <td>83.90</td>\n",
       "      <td>267.40</td>\n",
       "      <td>0.00</td>\n",
       "      <td>0</td>\n",
       "      <td>22.14</td>\n",
       "      <td>289.54</td>\n",
       "      <td>Churned</td>\n",
       "      <td>Dissatisfaction</td>\n",
       "      <td>Network reliability</td>\n",
       "    </tr>\n",
       "    <tr>\n",
       "      <th>5</th>\n",
       "      <td>0013-MHZWF</td>\n",
       "      <td>Female</td>\n",
       "      <td>23</td>\n",
       "      <td>No</td>\n",
       "      <td>3</td>\n",
       "      <td>Midpines</td>\n",
       "      <td>95345</td>\n",
       "      <td>37.581496</td>\n",
       "      <td>-119.972762</td>\n",
       "      <td>0</td>\n",
       "      <td>...</td>\n",
       "      <td>Credit Card</td>\n",
       "      <td>69.40</td>\n",
       "      <td>571.45</td>\n",
       "      <td>0.00</td>\n",
       "      <td>0</td>\n",
       "      <td>150.93</td>\n",
       "      <td>722.38</td>\n",
       "      <td>Stayed</td>\n",
       "      <td>NaN</td>\n",
       "      <td>NaN</td>\n",
       "    </tr>\n",
       "    <tr>\n",
       "      <th>6</th>\n",
       "      <td>0013-SMEOE</td>\n",
       "      <td>Female</td>\n",
       "      <td>67</td>\n",
       "      <td>Yes</td>\n",
       "      <td>0</td>\n",
       "      <td>Lompoc</td>\n",
       "      <td>93437</td>\n",
       "      <td>34.757477</td>\n",
       "      <td>-120.550507</td>\n",
       "      <td>1</td>\n",
       "      <td>...</td>\n",
       "      <td>Bank Withdrawal</td>\n",
       "      <td>109.70</td>\n",
       "      <td>7904.25</td>\n",
       "      <td>0.00</td>\n",
       "      <td>0</td>\n",
       "      <td>707.16</td>\n",
       "      <td>8611.41</td>\n",
       "      <td>Stayed</td>\n",
       "      <td>NaN</td>\n",
       "      <td>NaN</td>\n",
       "    </tr>\n",
       "    <tr>\n",
       "      <th>7</th>\n",
       "      <td>0014-BMAQU</td>\n",
       "      <td>Male</td>\n",
       "      <td>52</td>\n",
       "      <td>Yes</td>\n",
       "      <td>0</td>\n",
       "      <td>Napa</td>\n",
       "      <td>94558</td>\n",
       "      <td>38.489789</td>\n",
       "      <td>-122.270110</td>\n",
       "      <td>8</td>\n",
       "      <td>...</td>\n",
       "      <td>Credit Card</td>\n",
       "      <td>84.65</td>\n",
       "      <td>5377.80</td>\n",
       "      <td>0.00</td>\n",
       "      <td>20</td>\n",
       "      <td>816.48</td>\n",
       "      <td>6214.28</td>\n",
       "      <td>Stayed</td>\n",
       "      <td>NaN</td>\n",
       "      <td>NaN</td>\n",
       "    </tr>\n",
       "    <tr>\n",
       "      <th>8</th>\n",
       "      <td>0015-UOCOJ</td>\n",
       "      <td>Female</td>\n",
       "      <td>68</td>\n",
       "      <td>No</td>\n",
       "      <td>0</td>\n",
       "      <td>Simi Valley</td>\n",
       "      <td>93063</td>\n",
       "      <td>34.296813</td>\n",
       "      <td>-118.685703</td>\n",
       "      <td>0</td>\n",
       "      <td>...</td>\n",
       "      <td>Bank Withdrawal</td>\n",
       "      <td>48.20</td>\n",
       "      <td>340.35</td>\n",
       "      <td>0.00</td>\n",
       "      <td>0</td>\n",
       "      <td>73.71</td>\n",
       "      <td>414.06</td>\n",
       "      <td>Stayed</td>\n",
       "      <td>NaN</td>\n",
       "      <td>NaN</td>\n",
       "    </tr>\n",
       "    <tr>\n",
       "      <th>9</th>\n",
       "      <td>0016-QLJIS</td>\n",
       "      <td>Female</td>\n",
       "      <td>43</td>\n",
       "      <td>Yes</td>\n",
       "      <td>1</td>\n",
       "      <td>Sheridan</td>\n",
       "      <td>95681</td>\n",
       "      <td>38.984756</td>\n",
       "      <td>-121.345074</td>\n",
       "      <td>3</td>\n",
       "      <td>...</td>\n",
       "      <td>Credit Card</td>\n",
       "      <td>90.45</td>\n",
       "      <td>5957.90</td>\n",
       "      <td>0.00</td>\n",
       "      <td>0</td>\n",
       "      <td>1849.90</td>\n",
       "      <td>7807.80</td>\n",
       "      <td>Stayed</td>\n",
       "      <td>NaN</td>\n",
       "      <td>NaN</td>\n",
       "    </tr>\n",
       "  </tbody>\n",
       "</table>\n",
       "<p>10 rows × 38 columns</p>\n",
       "</div>"
      ],
      "text/plain": [
       "  Customer ID  Gender  Age Married  Number of Dependents          City  \\\n",
       "0  0002-ORFBO  Female   37     Yes                     0  Frazier Park   \n",
       "1  0003-MKNFE    Male   46      No                     0      Glendale   \n",
       "2  0004-TLHLJ    Male   50      No                     0    Costa Mesa   \n",
       "3  0011-IGKFF    Male   78     Yes                     0      Martinez   \n",
       "4  0013-EXCHZ  Female   75     Yes                     0     Camarillo   \n",
       "5  0013-MHZWF  Female   23      No                     3      Midpines   \n",
       "6  0013-SMEOE  Female   67     Yes                     0        Lompoc   \n",
       "7  0014-BMAQU    Male   52     Yes                     0          Napa   \n",
       "8  0015-UOCOJ  Female   68      No                     0   Simi Valley   \n",
       "9  0016-QLJIS  Female   43     Yes                     1      Sheridan   \n",
       "\n",
       "   Zip Code   Latitude   Longitude  Number of Referrals  ...   Payment Method  \\\n",
       "0     93225  34.827662 -118.999073                    2  ...      Credit Card   \n",
       "1     91206  34.162515 -118.203869                    0  ...      Credit Card   \n",
       "2     92627  33.645672 -117.922613                    0  ...  Bank Withdrawal   \n",
       "3     94553  38.014457 -122.115432                    1  ...  Bank Withdrawal   \n",
       "4     93010  34.227846 -119.079903                    3  ...      Credit Card   \n",
       "5     95345  37.581496 -119.972762                    0  ...      Credit Card   \n",
       "6     93437  34.757477 -120.550507                    1  ...  Bank Withdrawal   \n",
       "7     94558  38.489789 -122.270110                    8  ...      Credit Card   \n",
       "8     93063  34.296813 -118.685703                    0  ...  Bank Withdrawal   \n",
       "9     95681  38.984756 -121.345074                    3  ...      Credit Card   \n",
       "\n",
       "  Monthly Charge Total Charges  Total Refunds Total Extra Data Charges  \\\n",
       "0          65.60        593.30           0.00                        0   \n",
       "1          -4.00        542.40          38.33                       10   \n",
       "2          73.90        280.85           0.00                        0   \n",
       "3          98.00       1237.85           0.00                        0   \n",
       "4          83.90        267.40           0.00                        0   \n",
       "5          69.40        571.45           0.00                        0   \n",
       "6         109.70       7904.25           0.00                        0   \n",
       "7          84.65       5377.80           0.00                       20   \n",
       "8          48.20        340.35           0.00                        0   \n",
       "9          90.45       5957.90           0.00                        0   \n",
       "\n",
       "  Total Long Distance Charges Total Revenue  Customer Status   Churn Category  \\\n",
       "0                      381.51        974.81           Stayed              NaN   \n",
       "1                       96.21        610.28           Stayed              NaN   \n",
       "2                      134.60        415.45          Churned       Competitor   \n",
       "3                      361.66       1599.51          Churned  Dissatisfaction   \n",
       "4                       22.14        289.54          Churned  Dissatisfaction   \n",
       "5                      150.93        722.38           Stayed              NaN   \n",
       "6                      707.16       8611.41           Stayed              NaN   \n",
       "7                      816.48       6214.28           Stayed              NaN   \n",
       "8                       73.71        414.06           Stayed              NaN   \n",
       "9                     1849.90       7807.80           Stayed              NaN   \n",
       "\n",
       "                    Churn Reason  \n",
       "0                            NaN  \n",
       "1                            NaN  \n",
       "2  Competitor had better devices  \n",
       "3        Product dissatisfaction  \n",
       "4            Network reliability  \n",
       "5                            NaN  \n",
       "6                            NaN  \n",
       "7                            NaN  \n",
       "8                            NaN  \n",
       "9                            NaN  \n",
       "\n",
       "[10 rows x 38 columns]"
      ]
     },
     "execution_count": 4,
     "metadata": {},
     "output_type": "execute_result"
    }
   ],
   "source": [
    "df.head(10)"
   ]
  },
  {
   "cell_type": "code",
   "execution_count": 5,
   "id": "fb3379a4",
   "metadata": {
    "execution": {
     "iopub.execute_input": "2023-01-22T05:50:56.959613Z",
     "iopub.status.busy": "2023-01-22T05:50:56.958890Z",
     "iopub.status.idle": "2023-01-22T05:50:57.017175Z",
     "shell.execute_reply": "2023-01-22T05:50:57.015776Z"
    },
    "papermill": {
     "duration": 0.08263,
     "end_time": "2023-01-22T05:50:57.019389",
     "exception": false,
     "start_time": "2023-01-22T05:50:56.936759",
     "status": "completed"
    },
    "tags": []
   },
   "outputs": [
    {
     "data": {
      "text/html": [
       "<div>\n",
       "<style scoped>\n",
       "    .dataframe tbody tr th:only-of-type {\n",
       "        vertical-align: middle;\n",
       "    }\n",
       "\n",
       "    .dataframe tbody tr th {\n",
       "        vertical-align: top;\n",
       "    }\n",
       "\n",
       "    .dataframe thead th {\n",
       "        text-align: right;\n",
       "    }\n",
       "</style>\n",
       "<table border=\"1\" class=\"dataframe\">\n",
       "  <thead>\n",
       "    <tr style=\"text-align: right;\">\n",
       "      <th></th>\n",
       "      <th>Age</th>\n",
       "      <th>Number of Dependents</th>\n",
       "      <th>Zip Code</th>\n",
       "      <th>Latitude</th>\n",
       "      <th>Longitude</th>\n",
       "      <th>Number of Referrals</th>\n",
       "      <th>Tenure in Months</th>\n",
       "      <th>Avg Monthly Long Distance Charges</th>\n",
       "      <th>Avg Monthly GB Download</th>\n",
       "      <th>Monthly Charge</th>\n",
       "      <th>Total Charges</th>\n",
       "      <th>Total Refunds</th>\n",
       "      <th>Total Extra Data Charges</th>\n",
       "      <th>Total Long Distance Charges</th>\n",
       "      <th>Total Revenue</th>\n",
       "    </tr>\n",
       "  </thead>\n",
       "  <tbody>\n",
       "    <tr>\n",
       "      <th>count</th>\n",
       "      <td>7043.000000</td>\n",
       "      <td>7043.000000</td>\n",
       "      <td>7043.000000</td>\n",
       "      <td>7043.000000</td>\n",
       "      <td>7043.000000</td>\n",
       "      <td>7043.000000</td>\n",
       "      <td>7043.000000</td>\n",
       "      <td>6361.000000</td>\n",
       "      <td>5517.000000</td>\n",
       "      <td>7043.000000</td>\n",
       "      <td>7043.000000</td>\n",
       "      <td>7043.000000</td>\n",
       "      <td>7043.000000</td>\n",
       "      <td>7043.000000</td>\n",
       "      <td>7043.000000</td>\n",
       "    </tr>\n",
       "    <tr>\n",
       "      <th>mean</th>\n",
       "      <td>46.509726</td>\n",
       "      <td>0.468692</td>\n",
       "      <td>93486.070567</td>\n",
       "      <td>36.197455</td>\n",
       "      <td>-119.756684</td>\n",
       "      <td>1.951867</td>\n",
       "      <td>32.386767</td>\n",
       "      <td>25.420517</td>\n",
       "      <td>26.189958</td>\n",
       "      <td>63.596131</td>\n",
       "      <td>2280.381264</td>\n",
       "      <td>1.962182</td>\n",
       "      <td>6.860713</td>\n",
       "      <td>749.099262</td>\n",
       "      <td>3034.379056</td>\n",
       "    </tr>\n",
       "    <tr>\n",
       "      <th>std</th>\n",
       "      <td>16.750352</td>\n",
       "      <td>0.962802</td>\n",
       "      <td>1856.767505</td>\n",
       "      <td>2.468929</td>\n",
       "      <td>2.154425</td>\n",
       "      <td>3.001199</td>\n",
       "      <td>24.542061</td>\n",
       "      <td>14.200374</td>\n",
       "      <td>19.586585</td>\n",
       "      <td>31.204743</td>\n",
       "      <td>2266.220462</td>\n",
       "      <td>7.902614</td>\n",
       "      <td>25.104978</td>\n",
       "      <td>846.660055</td>\n",
       "      <td>2865.204542</td>\n",
       "    </tr>\n",
       "    <tr>\n",
       "      <th>min</th>\n",
       "      <td>19.000000</td>\n",
       "      <td>0.000000</td>\n",
       "      <td>90001.000000</td>\n",
       "      <td>32.555828</td>\n",
       "      <td>-124.301372</td>\n",
       "      <td>0.000000</td>\n",
       "      <td>1.000000</td>\n",
       "      <td>1.010000</td>\n",
       "      <td>2.000000</td>\n",
       "      <td>-10.000000</td>\n",
       "      <td>18.800000</td>\n",
       "      <td>0.000000</td>\n",
       "      <td>0.000000</td>\n",
       "      <td>0.000000</td>\n",
       "      <td>21.360000</td>\n",
       "    </tr>\n",
       "    <tr>\n",
       "      <th>25%</th>\n",
       "      <td>32.000000</td>\n",
       "      <td>0.000000</td>\n",
       "      <td>92101.000000</td>\n",
       "      <td>33.990646</td>\n",
       "      <td>-121.788090</td>\n",
       "      <td>0.000000</td>\n",
       "      <td>9.000000</td>\n",
       "      <td>13.050000</td>\n",
       "      <td>13.000000</td>\n",
       "      <td>30.400000</td>\n",
       "      <td>400.150000</td>\n",
       "      <td>0.000000</td>\n",
       "      <td>0.000000</td>\n",
       "      <td>70.545000</td>\n",
       "      <td>605.610000</td>\n",
       "    </tr>\n",
       "    <tr>\n",
       "      <th>50%</th>\n",
       "      <td>46.000000</td>\n",
       "      <td>0.000000</td>\n",
       "      <td>93518.000000</td>\n",
       "      <td>36.205465</td>\n",
       "      <td>-119.595293</td>\n",
       "      <td>0.000000</td>\n",
       "      <td>29.000000</td>\n",
       "      <td>25.690000</td>\n",
       "      <td>21.000000</td>\n",
       "      <td>70.050000</td>\n",
       "      <td>1394.550000</td>\n",
       "      <td>0.000000</td>\n",
       "      <td>0.000000</td>\n",
       "      <td>401.440000</td>\n",
       "      <td>2108.640000</td>\n",
       "    </tr>\n",
       "    <tr>\n",
       "      <th>75%</th>\n",
       "      <td>60.000000</td>\n",
       "      <td>0.000000</td>\n",
       "      <td>95329.000000</td>\n",
       "      <td>38.161321</td>\n",
       "      <td>-117.969795</td>\n",
       "      <td>3.000000</td>\n",
       "      <td>55.000000</td>\n",
       "      <td>37.680000</td>\n",
       "      <td>30.000000</td>\n",
       "      <td>89.750000</td>\n",
       "      <td>3786.600000</td>\n",
       "      <td>0.000000</td>\n",
       "      <td>0.000000</td>\n",
       "      <td>1191.100000</td>\n",
       "      <td>4801.145000</td>\n",
       "    </tr>\n",
       "    <tr>\n",
       "      <th>max</th>\n",
       "      <td>80.000000</td>\n",
       "      <td>9.000000</td>\n",
       "      <td>96150.000000</td>\n",
       "      <td>41.962127</td>\n",
       "      <td>-114.192901</td>\n",
       "      <td>11.000000</td>\n",
       "      <td>72.000000</td>\n",
       "      <td>49.990000</td>\n",
       "      <td>85.000000</td>\n",
       "      <td>118.750000</td>\n",
       "      <td>8684.800000</td>\n",
       "      <td>49.790000</td>\n",
       "      <td>150.000000</td>\n",
       "      <td>3564.720000</td>\n",
       "      <td>11979.340000</td>\n",
       "    </tr>\n",
       "  </tbody>\n",
       "</table>\n",
       "</div>"
      ],
      "text/plain": [
       "               Age  Number of Dependents      Zip Code     Latitude  \\\n",
       "count  7043.000000           7043.000000   7043.000000  7043.000000   \n",
       "mean     46.509726              0.468692  93486.070567    36.197455   \n",
       "std      16.750352              0.962802   1856.767505     2.468929   \n",
       "min      19.000000              0.000000  90001.000000    32.555828   \n",
       "25%      32.000000              0.000000  92101.000000    33.990646   \n",
       "50%      46.000000              0.000000  93518.000000    36.205465   \n",
       "75%      60.000000              0.000000  95329.000000    38.161321   \n",
       "max      80.000000              9.000000  96150.000000    41.962127   \n",
       "\n",
       "         Longitude  Number of Referrals  Tenure in Months  \\\n",
       "count  7043.000000          7043.000000       7043.000000   \n",
       "mean   -119.756684             1.951867         32.386767   \n",
       "std       2.154425             3.001199         24.542061   \n",
       "min    -124.301372             0.000000          1.000000   \n",
       "25%    -121.788090             0.000000          9.000000   \n",
       "50%    -119.595293             0.000000         29.000000   \n",
       "75%    -117.969795             3.000000         55.000000   \n",
       "max    -114.192901            11.000000         72.000000   \n",
       "\n",
       "       Avg Monthly Long Distance Charges  Avg Monthly GB Download  \\\n",
       "count                        6361.000000              5517.000000   \n",
       "mean                           25.420517                26.189958   \n",
       "std                            14.200374                19.586585   \n",
       "min                             1.010000                 2.000000   \n",
       "25%                            13.050000                13.000000   \n",
       "50%                            25.690000                21.000000   \n",
       "75%                            37.680000                30.000000   \n",
       "max                            49.990000                85.000000   \n",
       "\n",
       "       Monthly Charge  Total Charges  Total Refunds  Total Extra Data Charges  \\\n",
       "count     7043.000000    7043.000000    7043.000000               7043.000000   \n",
       "mean        63.596131    2280.381264       1.962182                  6.860713   \n",
       "std         31.204743    2266.220462       7.902614                 25.104978   \n",
       "min        -10.000000      18.800000       0.000000                  0.000000   \n",
       "25%         30.400000     400.150000       0.000000                  0.000000   \n",
       "50%         70.050000    1394.550000       0.000000                  0.000000   \n",
       "75%         89.750000    3786.600000       0.000000                  0.000000   \n",
       "max        118.750000    8684.800000      49.790000                150.000000   \n",
       "\n",
       "       Total Long Distance Charges  Total Revenue  \n",
       "count                  7043.000000    7043.000000  \n",
       "mean                    749.099262    3034.379056  \n",
       "std                     846.660055    2865.204542  \n",
       "min                       0.000000      21.360000  \n",
       "25%                      70.545000     605.610000  \n",
       "50%                     401.440000    2108.640000  \n",
       "75%                    1191.100000    4801.145000  \n",
       "max                    3564.720000   11979.340000  "
      ]
     },
     "execution_count": 5,
     "metadata": {},
     "output_type": "execute_result"
    }
   ],
   "source": [
    "df.describe()"
   ]
  },
  {
   "cell_type": "markdown",
   "id": "60d905f9",
   "metadata": {
    "papermill": {
     "duration": 0.020425,
     "end_time": "2023-01-22T05:50:57.060976",
     "exception": false,
     "start_time": "2023-01-22T05:50:57.040551",
     "status": "completed"
    },
    "tags": []
   },
   "source": [
    "## Clean and Preparing Data"
   ]
  },
  {
   "cell_type": "code",
   "execution_count": 6,
   "id": "0a5c4216",
   "metadata": {
    "execution": {
     "iopub.execute_input": "2023-01-22T05:50:57.104119Z",
     "iopub.status.busy": "2023-01-22T05:50:57.103189Z",
     "iopub.status.idle": "2023-01-22T05:50:57.112582Z",
     "shell.execute_reply": "2023-01-22T05:50:57.111718Z"
    },
    "papermill": {
     "duration": 0.033064,
     "end_time": "2023-01-22T05:50:57.114578",
     "exception": false,
     "start_time": "2023-01-22T05:50:57.081514",
     "status": "completed"
    },
    "tags": []
   },
   "outputs": [
    {
     "data": {
      "text/plain": [
       "False    7043\n",
       "Name: Customer ID, dtype: int64"
      ]
     },
     "execution_count": 6,
     "metadata": {},
     "output_type": "execute_result"
    }
   ],
   "source": [
    "#Check duplicated in customer ID\n",
    "df['Customer ID'].duplicated().value_counts()"
   ]
  },
  {
   "cell_type": "code",
   "execution_count": 7,
   "id": "97d7c3ef",
   "metadata": {
    "execution": {
     "iopub.execute_input": "2023-01-22T05:50:57.158252Z",
     "iopub.status.busy": "2023-01-22T05:50:57.157558Z",
     "iopub.status.idle": "2023-01-22T05:50:57.173662Z",
     "shell.execute_reply": "2023-01-22T05:50:57.172597Z"
    },
    "papermill": {
     "duration": 0.040417,
     "end_time": "2023-01-22T05:50:57.175698",
     "exception": false,
     "start_time": "2023-01-22T05:50:57.135281",
     "status": "completed"
    },
    "tags": []
   },
   "outputs": [
    {
     "data": {
      "text/plain": [
       "Customer ID                             0\n",
       "Gender                                  0\n",
       "Age                                     0\n",
       "Married                                 0\n",
       "Number of Dependents                    0\n",
       "City                                    0\n",
       "Zip Code                                0\n",
       "Latitude                                0\n",
       "Longitude                               0\n",
       "Number of Referrals                     0\n",
       "Tenure in Months                        0\n",
       "Offer                                   0\n",
       "Phone Service                           0\n",
       "Avg Monthly Long Distance Charges     682\n",
       "Multiple Lines                        682\n",
       "Internet Service                        0\n",
       "Internet Type                        1526\n",
       "Avg Monthly GB Download              1526\n",
       "Online Security                      1526\n",
       "Online Backup                        1526\n",
       "Device Protection Plan               1526\n",
       "Premium Tech Support                 1526\n",
       "Streaming TV                         1526\n",
       "Streaming Movies                     1526\n",
       "Streaming Music                      1526\n",
       "Unlimited Data                       1526\n",
       "Contract                                0\n",
       "Paperless Billing                       0\n",
       "Payment Method                          0\n",
       "Monthly Charge                          0\n",
       "Total Charges                           0\n",
       "Total Refunds                           0\n",
       "Total Extra Data Charges                0\n",
       "Total Long Distance Charges             0\n",
       "Total Revenue                           0\n",
       "Customer Status                         0\n",
       "Churn Category                       5174\n",
       "Churn Reason                         5174\n",
       "dtype: int64"
      ]
     },
     "execution_count": 7,
     "metadata": {},
     "output_type": "execute_result"
    }
   ],
   "source": [
    "#Some null values in some columns because some customers enrolled in phone or internet service only\n",
    "df.isnull().sum()"
   ]
  },
  {
   "cell_type": "code",
   "execution_count": 8,
   "id": "9b5ec8c4",
   "metadata": {
    "execution": {
     "iopub.execute_input": "2023-01-22T05:50:57.218838Z",
     "iopub.status.busy": "2023-01-22T05:50:57.218156Z",
     "iopub.status.idle": "2023-01-22T05:50:57.252137Z",
     "shell.execute_reply": "2023-01-22T05:50:57.251035Z"
    },
    "papermill": {
     "duration": 0.058067,
     "end_time": "2023-01-22T05:50:57.254313",
     "exception": false,
     "start_time": "2023-01-22T05:50:57.196246",
     "status": "completed"
    },
    "tags": []
   },
   "outputs": [],
   "source": [
    "#Change the column values into 1 and 0 to find the correlation\n",
    "df['Churned'] = df['Customer Status'].apply(lambda x:1 if x=='Churned' else 0)\n",
    "df['Stayed'] = df['Customer Status'].apply(lambda x:1 if x=='Stayed' else 0)\n",
    "df['Joined'] = df['Customer Status'].apply(lambda x:1 if x=='Joined' else 0)\n",
    "df['Married_Status'] = df['Married'].apply(lambda x:1 if x=='Yes' else 0)\n",
    "df['M2M_Contract'] = df['Contract'].apply(lambda x:1 if x=='Month-to-Month' else 0)\n",
    "df['1Y_Contract'] = df['Contract'].apply(lambda x:1 if x=='One Year' else 0)\n",
    "df['2Y_Contract'] = df['Contract'].apply(lambda x:1 if x=='Two Year' else 0)"
   ]
  },
  {
   "cell_type": "code",
   "execution_count": 9,
   "id": "65864a18",
   "metadata": {
    "execution": {
     "iopub.execute_input": "2023-01-22T05:50:57.297595Z",
     "iopub.status.busy": "2023-01-22T05:50:57.297163Z",
     "iopub.status.idle": "2023-01-22T05:50:57.347722Z",
     "shell.execute_reply": "2023-01-22T05:50:57.346581Z"
    },
    "papermill": {
     "duration": 0.075054,
     "end_time": "2023-01-22T05:50:57.350519",
     "exception": false,
     "start_time": "2023-01-22T05:50:57.275465",
     "status": "completed"
    },
    "tags": []
   },
   "outputs": [
    {
     "data": {
      "text/html": [
       "<div>\n",
       "<style scoped>\n",
       "    .dataframe tbody tr th:only-of-type {\n",
       "        vertical-align: middle;\n",
       "    }\n",
       "\n",
       "    .dataframe tbody tr th {\n",
       "        vertical-align: top;\n",
       "    }\n",
       "\n",
       "    .dataframe thead th {\n",
       "        text-align: right;\n",
       "    }\n",
       "</style>\n",
       "<table border=\"1\" class=\"dataframe\">\n",
       "  <thead>\n",
       "    <tr style=\"text-align: right;\">\n",
       "      <th></th>\n",
       "      <th>Age</th>\n",
       "      <th>Number of Dependents</th>\n",
       "      <th>Zip Code</th>\n",
       "      <th>Latitude</th>\n",
       "      <th>Longitude</th>\n",
       "      <th>Number of Referrals</th>\n",
       "      <th>Tenure in Months</th>\n",
       "      <th>Avg Monthly Long Distance Charges</th>\n",
       "      <th>Avg Monthly GB Download</th>\n",
       "      <th>Monthly Charge</th>\n",
       "      <th>...</th>\n",
       "      <th>Total Extra Data Charges</th>\n",
       "      <th>Total Long Distance Charges</th>\n",
       "      <th>Total Revenue</th>\n",
       "      <th>Churned</th>\n",
       "      <th>Stayed</th>\n",
       "      <th>Joined</th>\n",
       "      <th>Married_Status</th>\n",
       "      <th>M2M_Contract</th>\n",
       "      <th>1Y_Contract</th>\n",
       "      <th>2Y_Contract</th>\n",
       "    </tr>\n",
       "  </thead>\n",
       "  <tbody>\n",
       "    <tr>\n",
       "      <th>Age</th>\n",
       "      <td>1.000000</td>\n",
       "      <td>-0.119000</td>\n",
       "      <td>-0.008183</td>\n",
       "      <td>-0.010305</td>\n",
       "      <td>0.007612</td>\n",
       "      <td>-0.025141</td>\n",
       "      <td>0.009927</td>\n",
       "      <td>-0.020010</td>\n",
       "      <td>-0.566518</td>\n",
       "      <td>0.134511</td>\n",
       "      <td>...</td>\n",
       "      <td>0.025036</td>\n",
       "      <td>0.003065</td>\n",
       "      <td>0.048265</td>\n",
       "      <td>0.115760</td>\n",
       "      <td>-0.078918</td>\n",
       "      <td>-0.057041</td>\n",
       "      <td>-0.003666</td>\n",
       "      <td>-0.023270</td>\n",
       "      <td>-0.000922</td>\n",
       "      <td>0.027145</td>\n",
       "    </tr>\n",
       "    <tr>\n",
       "      <th>Number of Dependents</th>\n",
       "      <td>-0.119000</td>\n",
       "      <td>1.000000</td>\n",
       "      <td>0.016493</td>\n",
       "      <td>0.029081</td>\n",
       "      <td>-0.024271</td>\n",
       "      <td>0.278003</td>\n",
       "      <td>0.108237</td>\n",
       "      <td>-0.002898</td>\n",
       "      <td>0.300802</td>\n",
       "      <td>-0.125649</td>\n",
       "      <td>...</td>\n",
       "      <td>-0.014436</td>\n",
       "      <td>0.068966</td>\n",
       "      <td>0.038038</td>\n",
       "      <td>-0.218780</td>\n",
       "      <td>0.220765</td>\n",
       "      <td>-0.029299</td>\n",
       "      <td>0.324205</td>\n",
       "      <td>-0.127753</td>\n",
       "      <td>0.007663</td>\n",
       "      <td>0.137108</td>\n",
       "    </tr>\n",
       "    <tr>\n",
       "      <th>Zip Code</th>\n",
       "      <td>-0.008183</td>\n",
       "      <td>0.016493</td>\n",
       "      <td>1.000000</td>\n",
       "      <td>0.894769</td>\n",
       "      <td>-0.790564</td>\n",
       "      <td>0.001463</td>\n",
       "      <td>0.007146</td>\n",
       "      <td>0.012298</td>\n",
       "      <td>-0.002859</td>\n",
       "      <td>-0.002517</td>\n",
       "      <td>...</td>\n",
       "      <td>-0.014550</td>\n",
       "      <td>0.005063</td>\n",
       "      <td>0.002944</td>\n",
       "      <td>-0.016289</td>\n",
       "      <td>0.021121</td>\n",
       "      <td>-0.011150</td>\n",
       "      <td>-0.001577</td>\n",
       "      <td>-0.014166</td>\n",
       "      <td>-0.000098</td>\n",
       "      <td>0.016091</td>\n",
       "    </tr>\n",
       "    <tr>\n",
       "      <th>Latitude</th>\n",
       "      <td>-0.010305</td>\n",
       "      <td>0.029081</td>\n",
       "      <td>0.894769</td>\n",
       "      <td>1.000000</td>\n",
       "      <td>-0.885979</td>\n",
       "      <td>0.018715</td>\n",
       "      <td>0.011963</td>\n",
       "      <td>0.014450</td>\n",
       "      <td>-0.013485</td>\n",
       "      <td>-0.021613</td>\n",
       "      <td>...</td>\n",
       "      <td>-0.013233</td>\n",
       "      <td>0.008029</td>\n",
       "      <td>0.000082</td>\n",
       "      <td>-0.041546</td>\n",
       "      <td>0.040876</td>\n",
       "      <td>-0.003559</td>\n",
       "      <td>0.001059</td>\n",
       "      <td>-0.024147</td>\n",
       "      <td>-0.000532</td>\n",
       "      <td>0.027769</td>\n",
       "    </tr>\n",
       "    <tr>\n",
       "      <th>Longitude</th>\n",
       "      <td>0.007612</td>\n",
       "      <td>-0.024271</td>\n",
       "      <td>-0.790564</td>\n",
       "      <td>-0.885979</td>\n",
       "      <td>1.000000</td>\n",
       "      <td>-0.009893</td>\n",
       "      <td>-0.009672</td>\n",
       "      <td>-0.015420</td>\n",
       "      <td>0.015195</td>\n",
       "      <td>0.021052</td>\n",
       "      <td>...</td>\n",
       "      <td>0.010461</td>\n",
       "      <td>-0.006923</td>\n",
       "      <td>0.001062</td>\n",
       "      <td>0.024052</td>\n",
       "      <td>-0.023498</td>\n",
       "      <td>0.001743</td>\n",
       "      <td>0.003638</td>\n",
       "      <td>0.018001</td>\n",
       "      <td>0.006332</td>\n",
       "      <td>-0.026256</td>\n",
       "    </tr>\n",
       "    <tr>\n",
       "      <th>Number of Referrals</th>\n",
       "      <td>-0.025141</td>\n",
       "      <td>0.278003</td>\n",
       "      <td>0.001463</td>\n",
       "      <td>0.018715</td>\n",
       "      <td>-0.009893</td>\n",
       "      <td>1.000000</td>\n",
       "      <td>0.326975</td>\n",
       "      <td>0.001800</td>\n",
       "      <td>0.080243</td>\n",
       "      <td>0.026301</td>\n",
       "      <td>...</td>\n",
       "      <td>0.000350</td>\n",
       "      <td>0.216190</td>\n",
       "      <td>0.261853</td>\n",
       "      <td>-0.286540</td>\n",
       "      <td>0.314899</td>\n",
       "      <td>-0.087690</td>\n",
       "      <td>0.672867</td>\n",
       "      <td>-0.277742</td>\n",
       "      <td>0.075555</td>\n",
       "      <td>0.242949</td>\n",
       "    </tr>\n",
       "    <tr>\n",
       "      <th>Tenure in Months</th>\n",
       "      <td>0.009927</td>\n",
       "      <td>0.108237</td>\n",
       "      <td>0.007146</td>\n",
       "      <td>0.011963</td>\n",
       "      <td>-0.009672</td>\n",
       "      <td>0.326975</td>\n",
       "      <td>1.000000</td>\n",
       "      <td>0.012713</td>\n",
       "      <td>0.038173</td>\n",
       "      <td>0.239065</td>\n",
       "      <td>...</td>\n",
       "      <td>0.082266</td>\n",
       "      <td>0.674149</td>\n",
       "      <td>0.853146</td>\n",
       "      <td>-0.352861</td>\n",
       "      <td>0.502714</td>\n",
       "      <td>-0.328021</td>\n",
       "      <td>0.380394</td>\n",
       "      <td>-0.628317</td>\n",
       "      <td>0.191918</td>\n",
       "      <td>0.529956</td>\n",
       "    </tr>\n",
       "    <tr>\n",
       "      <th>Avg Monthly Long Distance Charges</th>\n",
       "      <td>-0.020010</td>\n",
       "      <td>-0.002898</td>\n",
       "      <td>0.012298</td>\n",
       "      <td>0.014450</td>\n",
       "      <td>-0.015420</td>\n",
       "      <td>0.001800</td>\n",
       "      <td>0.012713</td>\n",
       "      <td>1.000000</td>\n",
       "      <td>0.019047</td>\n",
       "      <td>0.019149</td>\n",
       "      <td>...</td>\n",
       "      <td>0.021162</td>\n",
       "      <td>0.548759</td>\n",
       "      <td>0.173072</td>\n",
       "      <td>0.002774</td>\n",
       "      <td>0.007975</td>\n",
       "      <td>-0.020161</td>\n",
       "      <td>0.001924</td>\n",
       "      <td>-0.010485</td>\n",
       "      <td>0.034741</td>\n",
       "      <td>-0.020671</td>\n",
       "    </tr>\n",
       "    <tr>\n",
       "      <th>Avg Monthly GB Download</th>\n",
       "      <td>-0.566518</td>\n",
       "      <td>0.300802</td>\n",
       "      <td>-0.002859</td>\n",
       "      <td>-0.013485</td>\n",
       "      <td>0.015195</td>\n",
       "      <td>0.080243</td>\n",
       "      <td>0.038173</td>\n",
       "      <td>0.019047</td>\n",
       "      <td>1.000000</td>\n",
       "      <td>-0.017283</td>\n",
       "      <td>...</td>\n",
       "      <td>0.015451</td>\n",
       "      <td>0.024101</td>\n",
       "      <td>0.031922</td>\n",
       "      <td>-0.090274</td>\n",
       "      <td>0.090837</td>\n",
       "      <td>-0.008065</td>\n",
       "      <td>0.075953</td>\n",
       "      <td>-0.025590</td>\n",
       "      <td>0.025137</td>\n",
       "      <td>0.005702</td>\n",
       "    </tr>\n",
       "    <tr>\n",
       "      <th>Monthly Charge</th>\n",
       "      <td>0.134511</td>\n",
       "      <td>-0.125649</td>\n",
       "      <td>-0.002517</td>\n",
       "      <td>-0.021613</td>\n",
       "      <td>0.021052</td>\n",
       "      <td>0.026301</td>\n",
       "      <td>0.239065</td>\n",
       "      <td>0.019149</td>\n",
       "      <td>-0.017283</td>\n",
       "      <td>1.000000</td>\n",
       "      <td>...</td>\n",
       "      <td>0.121238</td>\n",
       "      <td>0.235685</td>\n",
       "      <td>0.563249</td>\n",
       "      <td>0.187833</td>\n",
       "      <td>-0.084912</td>\n",
       "      <td>-0.175151</td>\n",
       "      <td>0.094775</td>\n",
       "      <td>0.026132</td>\n",
       "      <td>0.013733</td>\n",
       "      <td>-0.042369</td>\n",
       "    </tr>\n",
       "    <tr>\n",
       "      <th>Total Charges</th>\n",
       "      <td>0.059684</td>\n",
       "      <td>0.022535</td>\n",
       "      <td>0.001978</td>\n",
       "      <td>-0.002784</td>\n",
       "      <td>0.003811</td>\n",
       "      <td>0.250378</td>\n",
       "      <td>0.826074</td>\n",
       "      <td>0.016946</td>\n",
       "      <td>0.031957</td>\n",
       "      <td>0.622810</td>\n",
       "      <td>...</td>\n",
       "      <td>0.121859</td>\n",
       "      <td>0.610185</td>\n",
       "      <td>0.972212</td>\n",
       "      <td>-0.198546</td>\n",
       "      <td>0.319635</td>\n",
       "      <td>-0.254967</td>\n",
       "      <td>0.317777</td>\n",
       "      <td>-0.443019</td>\n",
       "      <td>0.165968</td>\n",
       "      <td>0.344976</td>\n",
       "    </tr>\n",
       "    <tr>\n",
       "      <th>Total Refunds</th>\n",
       "      <td>0.024168</td>\n",
       "      <td>0.014023</td>\n",
       "      <td>-0.003797</td>\n",
       "      <td>-0.009901</td>\n",
       "      <td>-0.000597</td>\n",
       "      <td>0.024756</td>\n",
       "      <td>0.059021</td>\n",
       "      <td>-0.026072</td>\n",
       "      <td>-0.011000</td>\n",
       "      <td>0.023963</td>\n",
       "      <td>...</td>\n",
       "      <td>0.016755</td>\n",
       "      <td>0.028113</td>\n",
       "      <td>0.036984</td>\n",
       "      <td>-0.033709</td>\n",
       "      <td>0.061562</td>\n",
       "      <td>-0.057253</td>\n",
       "      <td>0.040142</td>\n",
       "      <td>-0.047519</td>\n",
       "      <td>0.010797</td>\n",
       "      <td>0.043560</td>\n",
       "    </tr>\n",
       "    <tr>\n",
       "      <th>Total Extra Data Charges</th>\n",
       "      <td>0.025036</td>\n",
       "      <td>-0.014436</td>\n",
       "      <td>-0.014550</td>\n",
       "      <td>-0.013233</td>\n",
       "      <td>0.010461</td>\n",
       "      <td>0.000350</td>\n",
       "      <td>0.082266</td>\n",
       "      <td>0.021162</td>\n",
       "      <td>0.015451</td>\n",
       "      <td>0.121238</td>\n",
       "      <td>...</td>\n",
       "      <td>1.000000</td>\n",
       "      <td>0.058871</td>\n",
       "      <td>0.122496</td>\n",
       "      <td>0.007139</td>\n",
       "      <td>0.017774</td>\n",
       "      <td>-0.046865</td>\n",
       "      <td>0.017882</td>\n",
       "      <td>-0.012189</td>\n",
       "      <td>0.026293</td>\n",
       "      <td>-0.010846</td>\n",
       "    </tr>\n",
       "    <tr>\n",
       "      <th>Total Long Distance Charges</th>\n",
       "      <td>0.003065</td>\n",
       "      <td>0.068966</td>\n",
       "      <td>0.005063</td>\n",
       "      <td>0.008029</td>\n",
       "      <td>-0.006923</td>\n",
       "      <td>0.216190</td>\n",
       "      <td>0.674149</td>\n",
       "      <td>0.548759</td>\n",
       "      <td>0.024101</td>\n",
       "      <td>0.235685</td>\n",
       "      <td>...</td>\n",
       "      <td>0.058871</td>\n",
       "      <td>1.000000</td>\n",
       "      <td>0.778559</td>\n",
       "      <td>-0.223756</td>\n",
       "      <td>0.325276</td>\n",
       "      <td>-0.220441</td>\n",
       "      <td>0.264230</td>\n",
       "      <td>-0.422003</td>\n",
       "      <td>0.149548</td>\n",
       "      <td>0.336610</td>\n",
       "    </tr>\n",
       "    <tr>\n",
       "      <th>Total Revenue</th>\n",
       "      <td>0.048265</td>\n",
       "      <td>0.038038</td>\n",
       "      <td>0.002944</td>\n",
       "      <td>0.000082</td>\n",
       "      <td>0.001062</td>\n",
       "      <td>0.261853</td>\n",
       "      <td>0.853146</td>\n",
       "      <td>0.173072</td>\n",
       "      <td>0.031922</td>\n",
       "      <td>0.563249</td>\n",
       "      <td>...</td>\n",
       "      <td>0.122496</td>\n",
       "      <td>0.778559</td>\n",
       "      <td>1.000000</td>\n",
       "      <td>-0.223003</td>\n",
       "      <td>0.348918</td>\n",
       "      <td>-0.267058</td>\n",
       "      <td>0.329469</td>\n",
       "      <td>-0.475080</td>\n",
       "      <td>0.175663</td>\n",
       "      <td>0.372109</td>\n",
       "    </tr>\n",
       "    <tr>\n",
       "      <th>Churned</th>\n",
       "      <td>0.115760</td>\n",
       "      <td>-0.218780</td>\n",
       "      <td>-0.016289</td>\n",
       "      <td>-0.041546</td>\n",
       "      <td>0.024052</td>\n",
       "      <td>-0.286540</td>\n",
       "      <td>-0.352861</td>\n",
       "      <td>0.002774</td>\n",
       "      <td>-0.090274</td>\n",
       "      <td>0.187833</td>\n",
       "      <td>...</td>\n",
       "      <td>0.007139</td>\n",
       "      <td>-0.223756</td>\n",
       "      <td>-0.223003</td>\n",
       "      <td>1.000000</td>\n",
       "      <td>-0.856718</td>\n",
       "      <td>-0.157765</td>\n",
       "      <td>-0.150448</td>\n",
       "      <td>0.448427</td>\n",
       "      <td>-0.190418</td>\n",
       "      <td>-0.328195</td>\n",
       "    </tr>\n",
       "    <tr>\n",
       "      <th>Stayed</th>\n",
       "      <td>-0.078918</td>\n",
       "      <td>0.220765</td>\n",
       "      <td>0.021121</td>\n",
       "      <td>0.040876</td>\n",
       "      <td>-0.023498</td>\n",
       "      <td>0.314899</td>\n",
       "      <td>0.502714</td>\n",
       "      <td>0.007975</td>\n",
       "      <td>0.090837</td>\n",
       "      <td>-0.084912</td>\n",
       "      <td>...</td>\n",
       "      <td>0.017774</td>\n",
       "      <td>0.325276</td>\n",
       "      <td>0.348918</td>\n",
       "      <td>-0.856718</td>\n",
       "      <td>1.000000</td>\n",
       "      <td>-0.374166</td>\n",
       "      <td>0.223055</td>\n",
       "      <td>-0.527039</td>\n",
       "      <td>0.234163</td>\n",
       "      <td>0.376028</td>\n",
       "    </tr>\n",
       "    <tr>\n",
       "      <th>Joined</th>\n",
       "      <td>-0.057041</td>\n",
       "      <td>-0.029299</td>\n",
       "      <td>-0.011150</td>\n",
       "      <td>-0.003559</td>\n",
       "      <td>0.001743</td>\n",
       "      <td>-0.087690</td>\n",
       "      <td>-0.328021</td>\n",
       "      <td>-0.020161</td>\n",
       "      <td>-0.008065</td>\n",
       "      <td>-0.175151</td>\n",
       "      <td>...</td>\n",
       "      <td>-0.046865</td>\n",
       "      <td>-0.220441</td>\n",
       "      <td>-0.267058</td>\n",
       "      <td>-0.157765</td>\n",
       "      <td>-0.374166</td>\n",
       "      <td>1.000000</td>\n",
       "      <td>-0.156542</td>\n",
       "      <td>0.202768</td>\n",
       "      <td>-0.105944</td>\n",
       "      <td>-0.129829</td>\n",
       "    </tr>\n",
       "    <tr>\n",
       "      <th>Married_Status</th>\n",
       "      <td>-0.003666</td>\n",
       "      <td>0.324205</td>\n",
       "      <td>-0.001577</td>\n",
       "      <td>0.001059</td>\n",
       "      <td>0.003638</td>\n",
       "      <td>0.672867</td>\n",
       "      <td>0.380394</td>\n",
       "      <td>0.001924</td>\n",
       "      <td>0.075953</td>\n",
       "      <td>0.094775</td>\n",
       "      <td>...</td>\n",
       "      <td>0.017882</td>\n",
       "      <td>0.264230</td>\n",
       "      <td>0.329469</td>\n",
       "      <td>-0.150448</td>\n",
       "      <td>0.223055</td>\n",
       "      <td>-0.156542</td>\n",
       "      <td>1.000000</td>\n",
       "      <td>-0.271006</td>\n",
       "      <td>0.085247</td>\n",
       "      <td>0.226270</td>\n",
       "    </tr>\n",
       "    <tr>\n",
       "      <th>M2M_Contract</th>\n",
       "      <td>-0.023270</td>\n",
       "      <td>-0.127753</td>\n",
       "      <td>-0.014166</td>\n",
       "      <td>-0.024147</td>\n",
       "      <td>0.018001</td>\n",
       "      <td>-0.277742</td>\n",
       "      <td>-0.628317</td>\n",
       "      <td>-0.010485</td>\n",
       "      <td>-0.025590</td>\n",
       "      <td>0.026132</td>\n",
       "      <td>...</td>\n",
       "      <td>-0.012189</td>\n",
       "      <td>-0.422003</td>\n",
       "      <td>-0.475080</td>\n",
       "      <td>0.448427</td>\n",
       "      <td>-0.527039</td>\n",
       "      <td>0.202768</td>\n",
       "      <td>-0.271006</td>\n",
       "      <td>1.000000</td>\n",
       "      <td>-0.544726</td>\n",
       "      <td>-0.619465</td>\n",
       "    </tr>\n",
       "    <tr>\n",
       "      <th>1Y_Contract</th>\n",
       "      <td>-0.000922</td>\n",
       "      <td>0.007663</td>\n",
       "      <td>-0.000098</td>\n",
       "      <td>-0.000532</td>\n",
       "      <td>0.006332</td>\n",
       "      <td>0.075555</td>\n",
       "      <td>0.191918</td>\n",
       "      <td>0.034741</td>\n",
       "      <td>0.025137</td>\n",
       "      <td>0.013733</td>\n",
       "      <td>...</td>\n",
       "      <td>0.026293</td>\n",
       "      <td>0.149548</td>\n",
       "      <td>0.175663</td>\n",
       "      <td>-0.190418</td>\n",
       "      <td>0.234163</td>\n",
       "      <td>-0.105944</td>\n",
       "      <td>0.085247</td>\n",
       "      <td>-0.544726</td>\n",
       "      <td>1.000000</td>\n",
       "      <td>-0.320894</td>\n",
       "    </tr>\n",
       "    <tr>\n",
       "      <th>2Y_Contract</th>\n",
       "      <td>0.027145</td>\n",
       "      <td>0.137108</td>\n",
       "      <td>0.016091</td>\n",
       "      <td>0.027769</td>\n",
       "      <td>-0.026256</td>\n",
       "      <td>0.242949</td>\n",
       "      <td>0.529956</td>\n",
       "      <td>-0.020671</td>\n",
       "      <td>0.005702</td>\n",
       "      <td>-0.042369</td>\n",
       "      <td>...</td>\n",
       "      <td>-0.010846</td>\n",
       "      <td>0.336610</td>\n",
       "      <td>0.372109</td>\n",
       "      <td>-0.328195</td>\n",
       "      <td>0.376028</td>\n",
       "      <td>-0.129829</td>\n",
       "      <td>0.226270</td>\n",
       "      <td>-0.619465</td>\n",
       "      <td>-0.320894</td>\n",
       "      <td>1.000000</td>\n",
       "    </tr>\n",
       "  </tbody>\n",
       "</table>\n",
       "<p>22 rows × 22 columns</p>\n",
       "</div>"
      ],
      "text/plain": [
       "                                        Age  Number of Dependents  Zip Code  \\\n",
       "Age                                1.000000             -0.119000 -0.008183   \n",
       "Number of Dependents              -0.119000              1.000000  0.016493   \n",
       "Zip Code                          -0.008183              0.016493  1.000000   \n",
       "Latitude                          -0.010305              0.029081  0.894769   \n",
       "Longitude                          0.007612             -0.024271 -0.790564   \n",
       "Number of Referrals               -0.025141              0.278003  0.001463   \n",
       "Tenure in Months                   0.009927              0.108237  0.007146   \n",
       "Avg Monthly Long Distance Charges -0.020010             -0.002898  0.012298   \n",
       "Avg Monthly GB Download           -0.566518              0.300802 -0.002859   \n",
       "Monthly Charge                     0.134511             -0.125649 -0.002517   \n",
       "Total Charges                      0.059684              0.022535  0.001978   \n",
       "Total Refunds                      0.024168              0.014023 -0.003797   \n",
       "Total Extra Data Charges           0.025036             -0.014436 -0.014550   \n",
       "Total Long Distance Charges        0.003065              0.068966  0.005063   \n",
       "Total Revenue                      0.048265              0.038038  0.002944   \n",
       "Churned                            0.115760             -0.218780 -0.016289   \n",
       "Stayed                            -0.078918              0.220765  0.021121   \n",
       "Joined                            -0.057041             -0.029299 -0.011150   \n",
       "Married_Status                    -0.003666              0.324205 -0.001577   \n",
       "M2M_Contract                      -0.023270             -0.127753 -0.014166   \n",
       "1Y_Contract                       -0.000922              0.007663 -0.000098   \n",
       "2Y_Contract                        0.027145              0.137108  0.016091   \n",
       "\n",
       "                                   Latitude  Longitude  Number of Referrals  \\\n",
       "Age                               -0.010305   0.007612            -0.025141   \n",
       "Number of Dependents               0.029081  -0.024271             0.278003   \n",
       "Zip Code                           0.894769  -0.790564             0.001463   \n",
       "Latitude                           1.000000  -0.885979             0.018715   \n",
       "Longitude                         -0.885979   1.000000            -0.009893   \n",
       "Number of Referrals                0.018715  -0.009893             1.000000   \n",
       "Tenure in Months                   0.011963  -0.009672             0.326975   \n",
       "Avg Monthly Long Distance Charges  0.014450  -0.015420             0.001800   \n",
       "Avg Monthly GB Download           -0.013485   0.015195             0.080243   \n",
       "Monthly Charge                    -0.021613   0.021052             0.026301   \n",
       "Total Charges                     -0.002784   0.003811             0.250378   \n",
       "Total Refunds                     -0.009901  -0.000597             0.024756   \n",
       "Total Extra Data Charges          -0.013233   0.010461             0.000350   \n",
       "Total Long Distance Charges        0.008029  -0.006923             0.216190   \n",
       "Total Revenue                      0.000082   0.001062             0.261853   \n",
       "Churned                           -0.041546   0.024052            -0.286540   \n",
       "Stayed                             0.040876  -0.023498             0.314899   \n",
       "Joined                            -0.003559   0.001743            -0.087690   \n",
       "Married_Status                     0.001059   0.003638             0.672867   \n",
       "M2M_Contract                      -0.024147   0.018001            -0.277742   \n",
       "1Y_Contract                       -0.000532   0.006332             0.075555   \n",
       "2Y_Contract                        0.027769  -0.026256             0.242949   \n",
       "\n",
       "                                   Tenure in Months  \\\n",
       "Age                                        0.009927   \n",
       "Number of Dependents                       0.108237   \n",
       "Zip Code                                   0.007146   \n",
       "Latitude                                   0.011963   \n",
       "Longitude                                 -0.009672   \n",
       "Number of Referrals                        0.326975   \n",
       "Tenure in Months                           1.000000   \n",
       "Avg Monthly Long Distance Charges          0.012713   \n",
       "Avg Monthly GB Download                    0.038173   \n",
       "Monthly Charge                             0.239065   \n",
       "Total Charges                              0.826074   \n",
       "Total Refunds                              0.059021   \n",
       "Total Extra Data Charges                   0.082266   \n",
       "Total Long Distance Charges                0.674149   \n",
       "Total Revenue                              0.853146   \n",
       "Churned                                   -0.352861   \n",
       "Stayed                                     0.502714   \n",
       "Joined                                    -0.328021   \n",
       "Married_Status                             0.380394   \n",
       "M2M_Contract                              -0.628317   \n",
       "1Y_Contract                                0.191918   \n",
       "2Y_Contract                                0.529956   \n",
       "\n",
       "                                   Avg Monthly Long Distance Charges  \\\n",
       "Age                                                        -0.020010   \n",
       "Number of Dependents                                       -0.002898   \n",
       "Zip Code                                                    0.012298   \n",
       "Latitude                                                    0.014450   \n",
       "Longitude                                                  -0.015420   \n",
       "Number of Referrals                                         0.001800   \n",
       "Tenure in Months                                            0.012713   \n",
       "Avg Monthly Long Distance Charges                           1.000000   \n",
       "Avg Monthly GB Download                                     0.019047   \n",
       "Monthly Charge                                              0.019149   \n",
       "Total Charges                                               0.016946   \n",
       "Total Refunds                                              -0.026072   \n",
       "Total Extra Data Charges                                    0.021162   \n",
       "Total Long Distance Charges                                 0.548759   \n",
       "Total Revenue                                               0.173072   \n",
       "Churned                                                     0.002774   \n",
       "Stayed                                                      0.007975   \n",
       "Joined                                                     -0.020161   \n",
       "Married_Status                                              0.001924   \n",
       "M2M_Contract                                               -0.010485   \n",
       "1Y_Contract                                                 0.034741   \n",
       "2Y_Contract                                                -0.020671   \n",
       "\n",
       "                                   Avg Monthly GB Download  Monthly Charge  \\\n",
       "Age                                              -0.566518        0.134511   \n",
       "Number of Dependents                              0.300802       -0.125649   \n",
       "Zip Code                                         -0.002859       -0.002517   \n",
       "Latitude                                         -0.013485       -0.021613   \n",
       "Longitude                                         0.015195        0.021052   \n",
       "Number of Referrals                               0.080243        0.026301   \n",
       "Tenure in Months                                  0.038173        0.239065   \n",
       "Avg Monthly Long Distance Charges                 0.019047        0.019149   \n",
       "Avg Monthly GB Download                           1.000000       -0.017283   \n",
       "Monthly Charge                                   -0.017283        1.000000   \n",
       "Total Charges                                     0.031957        0.622810   \n",
       "Total Refunds                                    -0.011000        0.023963   \n",
       "Total Extra Data Charges                          0.015451        0.121238   \n",
       "Total Long Distance Charges                       0.024101        0.235685   \n",
       "Total Revenue                                     0.031922        0.563249   \n",
       "Churned                                          -0.090274        0.187833   \n",
       "Stayed                                            0.090837       -0.084912   \n",
       "Joined                                           -0.008065       -0.175151   \n",
       "Married_Status                                    0.075953        0.094775   \n",
       "M2M_Contract                                     -0.025590        0.026132   \n",
       "1Y_Contract                                       0.025137        0.013733   \n",
       "2Y_Contract                                       0.005702       -0.042369   \n",
       "\n",
       "                                   ...  Total Extra Data Charges  \\\n",
       "Age                                ...                  0.025036   \n",
       "Number of Dependents               ...                 -0.014436   \n",
       "Zip Code                           ...                 -0.014550   \n",
       "Latitude                           ...                 -0.013233   \n",
       "Longitude                          ...                  0.010461   \n",
       "Number of Referrals                ...                  0.000350   \n",
       "Tenure in Months                   ...                  0.082266   \n",
       "Avg Monthly Long Distance Charges  ...                  0.021162   \n",
       "Avg Monthly GB Download            ...                  0.015451   \n",
       "Monthly Charge                     ...                  0.121238   \n",
       "Total Charges                      ...                  0.121859   \n",
       "Total Refunds                      ...                  0.016755   \n",
       "Total Extra Data Charges           ...                  1.000000   \n",
       "Total Long Distance Charges        ...                  0.058871   \n",
       "Total Revenue                      ...                  0.122496   \n",
       "Churned                            ...                  0.007139   \n",
       "Stayed                             ...                  0.017774   \n",
       "Joined                             ...                 -0.046865   \n",
       "Married_Status                     ...                  0.017882   \n",
       "M2M_Contract                       ...                 -0.012189   \n",
       "1Y_Contract                        ...                  0.026293   \n",
       "2Y_Contract                        ...                 -0.010846   \n",
       "\n",
       "                                   Total Long Distance Charges  Total Revenue  \\\n",
       "Age                                                   0.003065       0.048265   \n",
       "Number of Dependents                                  0.068966       0.038038   \n",
       "Zip Code                                              0.005063       0.002944   \n",
       "Latitude                                              0.008029       0.000082   \n",
       "Longitude                                            -0.006923       0.001062   \n",
       "Number of Referrals                                   0.216190       0.261853   \n",
       "Tenure in Months                                      0.674149       0.853146   \n",
       "Avg Monthly Long Distance Charges                     0.548759       0.173072   \n",
       "Avg Monthly GB Download                               0.024101       0.031922   \n",
       "Monthly Charge                                        0.235685       0.563249   \n",
       "Total Charges                                         0.610185       0.972212   \n",
       "Total Refunds                                         0.028113       0.036984   \n",
       "Total Extra Data Charges                              0.058871       0.122496   \n",
       "Total Long Distance Charges                           1.000000       0.778559   \n",
       "Total Revenue                                         0.778559       1.000000   \n",
       "Churned                                              -0.223756      -0.223003   \n",
       "Stayed                                                0.325276       0.348918   \n",
       "Joined                                               -0.220441      -0.267058   \n",
       "Married_Status                                        0.264230       0.329469   \n",
       "M2M_Contract                                         -0.422003      -0.475080   \n",
       "1Y_Contract                                           0.149548       0.175663   \n",
       "2Y_Contract                                           0.336610       0.372109   \n",
       "\n",
       "                                    Churned    Stayed    Joined  \\\n",
       "Age                                0.115760 -0.078918 -0.057041   \n",
       "Number of Dependents              -0.218780  0.220765 -0.029299   \n",
       "Zip Code                          -0.016289  0.021121 -0.011150   \n",
       "Latitude                          -0.041546  0.040876 -0.003559   \n",
       "Longitude                          0.024052 -0.023498  0.001743   \n",
       "Number of Referrals               -0.286540  0.314899 -0.087690   \n",
       "Tenure in Months                  -0.352861  0.502714 -0.328021   \n",
       "Avg Monthly Long Distance Charges  0.002774  0.007975 -0.020161   \n",
       "Avg Monthly GB Download           -0.090274  0.090837 -0.008065   \n",
       "Monthly Charge                     0.187833 -0.084912 -0.175151   \n",
       "Total Charges                     -0.198546  0.319635 -0.254967   \n",
       "Total Refunds                     -0.033709  0.061562 -0.057253   \n",
       "Total Extra Data Charges           0.007139  0.017774 -0.046865   \n",
       "Total Long Distance Charges       -0.223756  0.325276 -0.220441   \n",
       "Total Revenue                     -0.223003  0.348918 -0.267058   \n",
       "Churned                            1.000000 -0.856718 -0.157765   \n",
       "Stayed                            -0.856718  1.000000 -0.374166   \n",
       "Joined                            -0.157765 -0.374166  1.000000   \n",
       "Married_Status                    -0.150448  0.223055 -0.156542   \n",
       "M2M_Contract                       0.448427 -0.527039  0.202768   \n",
       "1Y_Contract                       -0.190418  0.234163 -0.105944   \n",
       "2Y_Contract                       -0.328195  0.376028 -0.129829   \n",
       "\n",
       "                                   Married_Status  M2M_Contract  1Y_Contract  \\\n",
       "Age                                     -0.003666     -0.023270    -0.000922   \n",
       "Number of Dependents                     0.324205     -0.127753     0.007663   \n",
       "Zip Code                                -0.001577     -0.014166    -0.000098   \n",
       "Latitude                                 0.001059     -0.024147    -0.000532   \n",
       "Longitude                                0.003638      0.018001     0.006332   \n",
       "Number of Referrals                      0.672867     -0.277742     0.075555   \n",
       "Tenure in Months                         0.380394     -0.628317     0.191918   \n",
       "Avg Monthly Long Distance Charges        0.001924     -0.010485     0.034741   \n",
       "Avg Monthly GB Download                  0.075953     -0.025590     0.025137   \n",
       "Monthly Charge                           0.094775      0.026132     0.013733   \n",
       "Total Charges                            0.317777     -0.443019     0.165968   \n",
       "Total Refunds                            0.040142     -0.047519     0.010797   \n",
       "Total Extra Data Charges                 0.017882     -0.012189     0.026293   \n",
       "Total Long Distance Charges              0.264230     -0.422003     0.149548   \n",
       "Total Revenue                            0.329469     -0.475080     0.175663   \n",
       "Churned                                 -0.150448      0.448427    -0.190418   \n",
       "Stayed                                   0.223055     -0.527039     0.234163   \n",
       "Joined                                  -0.156542      0.202768    -0.105944   \n",
       "Married_Status                           1.000000     -0.271006     0.085247   \n",
       "M2M_Contract                            -0.271006      1.000000    -0.544726   \n",
       "1Y_Contract                              0.085247     -0.544726     1.000000   \n",
       "2Y_Contract                              0.226270     -0.619465    -0.320894   \n",
       "\n",
       "                                   2Y_Contract  \n",
       "Age                                   0.027145  \n",
       "Number of Dependents                  0.137108  \n",
       "Zip Code                              0.016091  \n",
       "Latitude                              0.027769  \n",
       "Longitude                            -0.026256  \n",
       "Number of Referrals                   0.242949  \n",
       "Tenure in Months                      0.529956  \n",
       "Avg Monthly Long Distance Charges    -0.020671  \n",
       "Avg Monthly GB Download               0.005702  \n",
       "Monthly Charge                       -0.042369  \n",
       "Total Charges                         0.344976  \n",
       "Total Refunds                         0.043560  \n",
       "Total Extra Data Charges             -0.010846  \n",
       "Total Long Distance Charges           0.336610  \n",
       "Total Revenue                         0.372109  \n",
       "Churned                              -0.328195  \n",
       "Stayed                                0.376028  \n",
       "Joined                               -0.129829  \n",
       "Married_Status                        0.226270  \n",
       "M2M_Contract                         -0.619465  \n",
       "1Y_Contract                          -0.320894  \n",
       "2Y_Contract                           1.000000  \n",
       "\n",
       "[22 rows x 22 columns]"
      ]
     },
     "execution_count": 9,
     "metadata": {},
     "output_type": "execute_result"
    }
   ],
   "source": [
    "#use pearson method to find correlation\n",
    "df_correlation = df.corr(method ='pearson')\n",
    "df_correlation"
   ]
  },
  {
   "cell_type": "code",
   "execution_count": 10,
   "id": "2877e277",
   "metadata": {
    "execution": {
     "iopub.execute_input": "2023-01-22T05:50:57.396871Z",
     "iopub.status.busy": "2023-01-22T05:50:57.396064Z",
     "iopub.status.idle": "2023-01-22T05:50:58.139469Z",
     "shell.execute_reply": "2023-01-22T05:50:58.138217Z"
    },
    "papermill": {
     "duration": 0.768933,
     "end_time": "2023-01-22T05:50:58.141926",
     "exception": false,
     "start_time": "2023-01-22T05:50:57.372993",
     "status": "completed"
    },
    "tags": []
   },
   "outputs": [
    {
     "data": {
      "image/png": "[encoded data removed]",
      "text/plain": [
       "<Figure size 864x864 with 2 Axes>"
      ]
     },
     "metadata": {
      "needs_background": "light"
     },
     "output_type": "display_data"
    }
   ],
   "source": [
    "#Display heatmap\n",
    "fig, ax = plt.subplots(figsize=(12,12))\n",
    "sns.heatmap(df_correlation, linewidths=.5, ax=ax,cmap=\"YlGnBu\")\n",
    "plt.show()"
   ]
  },
  {
   "cell_type": "markdown",
   "id": "1f6c784e",
   "metadata": {
    "papermill": {
     "duration": 0.022669,
     "end_time": "2023-01-22T05:50:58.188016",
     "exception": false,
     "start_time": "2023-01-22T05:50:58.165347",
     "status": "completed"
    },
    "tags": []
   },
   "source": [
    "* Strong positive correlation:\n",
    "    * #Dependents vs Married Status, Avg. Monthly download, #Referrals\n",
    "    * #Referrals vs Married Status, Total charges, Total revenue, Long distance charge\n",
    "    * Tenure in months vs Long distance charges, total charges\n",
    "    * Total Revenue vs 2 year contract, married status, monthly charge, tenure in months\n",
    "    * Churned vs month-to-month contract, \n",
    "* Strong negative correlation:\n",
    "    * Age vs Avg Monthly GB Download\n",
    "    * Month-to-Month contract vs #Referrals\n",
    "   "
   ]
  },
  {
   "cell_type": "markdown",
   "id": "55a97a91",
   "metadata": {
    "papermill": {
     "duration": 0.022393,
     "end_time": "2023-01-22T05:50:58.233133",
     "exception": false,
     "start_time": "2023-01-22T05:50:58.210740",
     "status": "completed"
    },
    "tags": []
   },
   "source": [
    "## Analyzing Data"
   ]
  },
  {
   "cell_type": "markdown",
   "id": "aeef0980",
   "metadata": {
    "papermill": {
     "duration": 0.022748,
     "end_time": "2023-01-22T05:50:58.279014",
     "exception": false,
     "start_time": "2023-01-22T05:50:58.256266",
     "status": "completed"
    },
    "tags": []
   },
   "source": [
    "### Define KPI"
   ]
  },
  {
   "cell_type": "markdown",
   "id": "64e0ba1a",
   "metadata": {
    "papermill": {
     "duration": 0.022804,
     "end_time": "2023-01-22T05:50:58.324617",
     "exception": false,
     "start_time": "2023-01-22T05:50:58.301813",
     "status": "completed"
    },
    "tags": []
   },
   "source": [
    "#### 1/ How many customers in telecom business group by each status?\n"
   ]
  },
  {
   "cell_type": "code",
   "execution_count": 11,
   "id": "9a573080",
   "metadata": {
    "execution": {
     "iopub.execute_input": "2023-01-22T05:50:58.373685Z",
     "iopub.status.busy": "2023-01-22T05:50:58.373096Z",
     "iopub.status.idle": "2023-01-22T05:50:58.381954Z",
     "shell.execute_reply": "2023-01-22T05:50:58.381140Z"
    },
    "papermill": {
     "duration": 0.036283,
     "end_time": "2023-01-22T05:50:58.384084",
     "exception": false,
     "start_time": "2023-01-22T05:50:58.347801",
     "status": "completed"
    },
    "tags": []
   },
   "outputs": [
    {
     "data": {
      "text/plain": [
       "7043"
      ]
     },
     "execution_count": 11,
     "metadata": {},
     "output_type": "execute_result"
    }
   ],
   "source": [
    "df['Customer Status'].count()"
   ]
  },
  {
   "cell_type": "code",
   "execution_count": 12,
   "id": "41273343",
   "metadata": {
    "execution": {
     "iopub.execute_input": "2023-01-22T05:50:58.432845Z",
     "iopub.status.busy": "2023-01-22T05:50:58.432436Z",
     "iopub.status.idle": "2023-01-22T05:50:58.441125Z",
     "shell.execute_reply": "2023-01-22T05:50:58.440128Z"
    },
    "papermill": {
     "duration": 0.035572,
     "end_time": "2023-01-22T05:50:58.443264",
     "exception": false,
     "start_time": "2023-01-22T05:50:58.407692",
     "status": "completed"
    },
    "tags": []
   },
   "outputs": [
    {
     "data": {
      "text/plain": [
       "Stayed     4720\n",
       "Churned    1869\n",
       "Joined      454\n",
       "Name: Customer Status, dtype: int64"
      ]
     },
     "execution_count": 12,
     "metadata": {},
     "output_type": "execute_result"
    }
   ],
   "source": [
    "df['Customer Status'].value_counts()"
   ]
  },
  {
   "cell_type": "code",
   "execution_count": 13,
   "id": "271056d4",
   "metadata": {
    "execution": {
     "iopub.execute_input": "2023-01-22T05:50:58.491584Z",
     "iopub.status.busy": "2023-01-22T05:50:58.491147Z",
     "iopub.status.idle": "2023-01-22T05:50:58.500989Z",
     "shell.execute_reply": "2023-01-22T05:50:58.499963Z"
    },
    "papermill": {
     "duration": 0.036421,
     "end_time": "2023-01-22T05:50:58.503143",
     "exception": false,
     "start_time": "2023-01-22T05:50:58.466722",
     "status": "completed"
    },
    "tags": []
   },
   "outputs": [
    {
     "data": {
      "text/plain": [
       "Stayed     67.016896\n",
       "Churned    26.536987\n",
       "Joined      6.446117\n",
       "Name: Customer Status, dtype: float64"
      ]
     },
     "execution_count": 13,
     "metadata": {},
     "output_type": "execute_result"
    }
   ],
   "source": [
    "#There are 6% of customer just joined, while 67% keep using the service and 26.5% churned\n",
    "(df['Customer Status'].value_counts()/df['Customer Status'].count())*100"
   ]
  },
  {
   "cell_type": "markdown",
   "id": "0a7dfe60",
   "metadata": {
    "papermill": {
     "duration": 0.023085,
     "end_time": "2023-01-22T05:50:58.549595",
     "exception": false,
     "start_time": "2023-01-22T05:50:58.526510",
     "status": "completed"
    },
    "tags": []
   },
   "source": [
    "#### 2/ How many offers group by each customer status?"
   ]
  },
  {
   "cell_type": "code",
   "execution_count": 14,
   "id": "4a03ddee",
   "metadata": {
    "execution": {
     "iopub.execute_input": "2023-01-22T05:50:58.599706Z",
     "iopub.status.busy": "2023-01-22T05:50:58.599284Z",
     "iopub.status.idle": "2023-01-22T05:50:58.607925Z",
     "shell.execute_reply": "2023-01-22T05:50:58.606893Z"
    },
    "papermill": {
     "duration": 0.035777,
     "end_time": "2023-01-22T05:50:58.610113",
     "exception": false,
     "start_time": "2023-01-22T05:50:58.574336",
     "status": "completed"
    },
    "tags": []
   },
   "outputs": [
    {
     "data": {
      "text/plain": [
       "None       3877\n",
       "Offer B     824\n",
       "Offer E     805\n",
       "Offer D     602\n",
       "Offer A     520\n",
       "Offer C     415\n",
       "Name: Offer, dtype: int64"
      ]
     },
     "execution_count": 14,
     "metadata": {},
     "output_type": "execute_result"
    }
   ],
   "source": [
    "df['Offer'].value_counts()"
   ]
  },
  {
   "cell_type": "code",
   "execution_count": 15,
   "id": "4206aee0",
   "metadata": {
    "execution": {
     "iopub.execute_input": "2023-01-22T05:50:58.659852Z",
     "iopub.status.busy": "2023-01-22T05:50:58.659441Z",
     "iopub.status.idle": "2023-01-22T05:50:58.672416Z",
     "shell.execute_reply": "2023-01-22T05:50:58.671400Z"
    },
    "papermill": {
     "duration": 0.04105,
     "end_time": "2023-01-22T05:50:58.674816",
     "exception": false,
     "start_time": "2023-01-22T05:50:58.633766",
     "status": "completed"
    },
    "tags": []
   },
   "outputs": [
    {
     "data": {
      "text/plain": [
       "Customer Status  Offer  \n",
       "Churned          None       1051\n",
       "                 Offer E     426\n",
       "                 Offer D     161\n",
       "                 Offer B     101\n",
       "                 Offer C      95\n",
       "                 Offer A      35\n",
       "Joined           None        279\n",
       "                 Offer E     175\n",
       "Stayed           None       2547\n",
       "                 Offer B     723\n",
       "                 Offer A     485\n",
       "                 Offer D     441\n",
       "                 Offer C     320\n",
       "                 Offer E     204\n",
       "Name: Offer, dtype: int64"
      ]
     },
     "execution_count": 15,
     "metadata": {},
     "output_type": "execute_result"
    }
   ],
   "source": [
    "#Most customers chose Offer E. \n",
    "df['Offer'].groupby(df['Customer Status']).value_counts()"
   ]
  },
  {
   "cell_type": "markdown",
   "id": "e5f96bb4",
   "metadata": {
    "papermill": {
     "duration": 0.023412,
     "end_time": "2023-01-22T05:50:58.722037",
     "exception": false,
     "start_time": "2023-01-22T05:50:58.698625",
     "status": "completed"
    },
    "tags": []
   },
   "source": [
    "#### 4/ How many referrals group by each customer status?"
   ]
  },
  {
   "cell_type": "code",
   "execution_count": 16,
   "id": "92a92077",
   "metadata": {
    "execution": {
     "iopub.execute_input": "2023-01-22T05:50:58.771667Z",
     "iopub.status.busy": "2023-01-22T05:50:58.771253Z",
     "iopub.status.idle": "2023-01-22T05:50:58.782073Z",
     "shell.execute_reply": "2023-01-22T05:50:58.781011Z"
    },
    "papermill": {
     "duration": 0.038451,
     "end_time": "2023-01-22T05:50:58.784164",
     "exception": false,
     "start_time": "2023-01-22T05:50:58.745713",
     "status": "completed"
    },
    "tags": []
   },
   "outputs": [
    {
     "data": {
      "text/plain": [
       "Customer Status  Number of Referrals\n",
       "Churned          0                      1245\n",
       "                 1                       507\n",
       "                 3                        32\n",
       "                 2                        26\n",
       "                 5                        21\n",
       "                 4                        18\n",
       "                 6                         8\n",
       "                 7                         6\n",
       "                 9                         4\n",
       "                 8                         2\n",
       "Joined           0                       373\n",
       "                 1                        15\n",
       "                 9                        12\n",
       "                 5                         9\n",
       "                 3                         8\n",
       "                 10                        8\n",
       "                 2                         7\n",
       "                 6                         7\n",
       "                 8                         7\n",
       "                 7                         5\n",
       "                 4                         3\n",
       "Stayed           0                      2203\n",
       "                 1                       564\n",
       "                 7                       237\n",
       "                 5                       234\n",
       "                 9                       222\n",
       "                 3                       215\n",
       "                 4                       215\n",
       "                 10                      215\n",
       "                 6                       206\n",
       "                 8                       204\n",
       "                 2                       203\n",
       "                 11                        2\n",
       "Name: Number of Referrals, dtype: int64"
      ]
     },
     "execution_count": 16,
     "metadata": {},
     "output_type": "execute_result"
    }
   ],
   "source": [
    "#Total referral \n",
    "df['Number of Referrals'].groupby(df['Customer Status']).value_counts()"
   ]
  },
  {
   "cell_type": "code",
   "execution_count": null,
   "id": "f83e58ad",
   "metadata": {
    "papermill": {
     "duration": 0.023449,
     "end_time": "2023-01-22T05:50:58.831547",
     "exception": false,
     "start_time": "2023-01-22T05:50:58.808098",
     "status": "completed"
    },
    "tags": []
   },
   "outputs": [],
   "source": []
  },
  {
   "cell_type": "markdown",
   "id": "40bb9011",
   "metadata": {
    "papermill": {
     "duration": 0.023394,
     "end_time": "2023-01-22T05:50:58.878862",
     "exception": false,
     "start_time": "2023-01-22T05:50:58.855468",
     "status": "completed"
    },
    "tags": []
   },
   "source": [
    "#### 5/ What is average age of each customer status?"
   ]
  },
  {
   "cell_type": "code",
   "execution_count": 17,
   "id": "53fa04db",
   "metadata": {
    "execution": {
     "iopub.execute_input": "2023-01-22T05:50:58.928912Z",
     "iopub.status.busy": "2023-01-22T05:50:58.928514Z",
     "iopub.status.idle": "2023-01-22T05:50:58.935705Z",
     "shell.execute_reply": "2023-01-22T05:50:58.934382Z"
    },
    "papermill": {
     "duration": 0.035148,
     "end_time": "2023-01-22T05:50:58.937876",
     "exception": false,
     "start_time": "2023-01-22T05:50:58.902728",
     "status": "completed"
    },
    "tags": []
   },
   "outputs": [
    {
     "data": {
      "text/plain": [
       "46.50972596904728"
      ]
     },
     "execution_count": 17,
     "metadata": {},
     "output_type": "execute_result"
    }
   ],
   "source": [
    "df['Age'].mean()"
   ]
  },
  {
   "cell_type": "code",
   "execution_count": 18,
   "id": "3b5b5292",
   "metadata": {
    "execution": {
     "iopub.execute_input": "2023-01-22T05:50:58.987572Z",
     "iopub.status.busy": "2023-01-22T05:50:58.987126Z",
     "iopub.status.idle": "2023-01-22T05:50:58.998084Z",
     "shell.execute_reply": "2023-01-22T05:50:58.997116Z"
    },
    "papermill": {
     "duration": 0.038254,
     "end_time": "2023-01-22T05:50:59.000386",
     "exception": false,
     "start_time": "2023-01-22T05:50:58.962132",
     "status": "completed"
    },
    "tags": []
   },
   "outputs": [
    {
     "data": {
      "text/plain": [
       "Customer Status\n",
       "Churned    49.735688\n",
       "Joined     42.870044\n",
       "Stayed     45.582415\n",
       "Name: Age, dtype: float64"
      ]
     },
     "execution_count": 18,
     "metadata": {},
     "output_type": "execute_result"
    }
   ],
   "source": [
    "#Average age of customer in each group\n",
    "df['Age'].groupby(df['Customer Status']).mean()"
   ]
  },
  {
   "cell_type": "markdown",
   "id": "4ef2bff9",
   "metadata": {
    "papermill": {
     "duration": 0.02421,
     "end_time": "2023-01-22T05:50:59.049080",
     "exception": false,
     "start_time": "2023-01-22T05:50:59.024870",
     "status": "completed"
    },
    "tags": []
   },
   "source": [
    "#### 6/ Married Status of each customer status"
   ]
  },
  {
   "cell_type": "code",
   "execution_count": 19,
   "id": "03393953",
   "metadata": {
    "execution": {
     "iopub.execute_input": "2023-01-22T05:50:59.099959Z",
     "iopub.status.busy": "2023-01-22T05:50:59.098644Z",
     "iopub.status.idle": "2023-01-22T05:50:59.121920Z",
     "shell.execute_reply": "2023-01-22T05:50:59.120727Z"
    },
    "papermill": {
     "duration": 0.051997,
     "end_time": "2023-01-22T05:50:59.125357",
     "exception": false,
     "start_time": "2023-01-22T05:50:59.073360",
     "status": "completed"
    },
    "tags": []
   },
   "outputs": [
    {
     "data": {
      "text/plain": [
       "Customer Status\n",
       "Churned     669\n",
       "Joined       84\n",
       "Stayed     2649\n",
       "Name: Married, dtype: int64"
      ]
     },
     "execution_count": 19,
     "metadata": {},
     "output_type": "execute_result"
    }
   ],
   "source": [
    "#Married status of each customer group\n",
    "df[df['Married']=='Yes'].groupby(df['Customer Status']).count()['Married']"
   ]
  },
  {
   "cell_type": "markdown",
   "id": "c84e8377",
   "metadata": {
    "papermill": {
     "duration": 0.023793,
     "end_time": "2023-01-22T05:50:59.173602",
     "exception": false,
     "start_time": "2023-01-22T05:50:59.149809",
     "status": "completed"
    },
    "tags": []
   },
   "source": [
    "#### 7/ Why do customers leave?"
   ]
  },
  {
   "cell_type": "code",
   "execution_count": 20,
   "id": "12b7a9b4",
   "metadata": {
    "execution": {
     "iopub.execute_input": "2023-01-22T05:50:59.223805Z",
     "iopub.status.busy": "2023-01-22T05:50:59.223053Z",
     "iopub.status.idle": "2023-01-22T05:50:59.234697Z",
     "shell.execute_reply": "2023-01-22T05:50:59.233470Z"
    },
    "papermill": {
     "duration": 0.039265,
     "end_time": "2023-01-22T05:50:59.236824",
     "exception": false,
     "start_time": "2023-01-22T05:50:59.197559",
     "status": "completed"
    },
    "tags": []
   },
   "outputs": [
    {
     "data": {
      "text/plain": [
       "Churn Category   Churn Reason                             \n",
       "Attitude         Attitude of support person                   220\n",
       "                 Attitude of service provider                  94\n",
       "Competitor       Competitor had better devices                313\n",
       "                 Competitor made better offer                 311\n",
       "                 Competitor offered more data                 117\n",
       "                 Competitor offered higher download speeds    100\n",
       "Dissatisfaction  Product dissatisfaction                       77\n",
       "                 Network reliability                           72\n",
       "                 Service dissatisfaction                       63\n",
       "                 Limited range of services                     37\n",
       "                 Poor expertise of online support              31\n",
       "                 Lack of self-service on Website               29\n",
       "                 Poor expertise of phone support               12\n",
       "Other            Don't know                                   130\n",
       "                 Moved                                         46\n",
       "                 Deceased                                       6\n",
       "Price            Price too high                                78\n",
       "                 Long distance charges                         64\n",
       "                 Extra data charges                            39\n",
       "                 Lack of affordable download/upload speed      30\n",
       "Name: Churn Reason, dtype: int64"
      ]
     },
     "execution_count": 20,
     "metadata": {},
     "output_type": "execute_result"
    }
   ],
   "source": [
    "#Most reasons are come from Attitude of support person and there are some competitors\n",
    "df['Churn Reason'].groupby(df['Churn Category']).value_counts()"
   ]
  },
  {
   "cell_type": "markdown",
   "id": "e5e917e8",
   "metadata": {
    "papermill": {
     "duration": 0.024024,
     "end_time": "2023-01-22T05:50:59.285244",
     "exception": false,
     "start_time": "2023-01-22T05:50:59.261220",
     "status": "completed"
    },
    "tags": []
   },
   "source": [
    "## Phone Only\n",
    "Analyze data with customers who have Phone Service Only"
   ]
  },
  {
   "cell_type": "markdown",
   "id": "f764cc57",
   "metadata": {
    "papermill": {
     "duration": 0.02401,
     "end_time": "2023-01-22T05:50:59.333336",
     "exception": false,
     "start_time": "2023-01-22T05:50:59.309326",
     "status": "completed"
    },
    "tags": []
   },
   "source": [
    "#### 1/ How many customers use Phone service only and group by customer status?"
   ]
  },
  {
   "cell_type": "code",
   "execution_count": 21,
   "id": "d49b23fe",
   "metadata": {
    "execution": {
     "iopub.execute_input": "2023-01-22T05:50:59.384339Z",
     "iopub.status.busy": "2023-01-22T05:50:59.383342Z",
     "iopub.status.idle": "2023-01-22T05:50:59.395583Z",
     "shell.execute_reply": "2023-01-22T05:50:59.394530Z"
    },
    "papermill": {
     "duration": 0.03998,
     "end_time": "2023-01-22T05:50:59.397831",
     "exception": false,
     "start_time": "2023-01-22T05:50:59.357851",
     "status": "completed"
    },
    "tags": []
   },
   "outputs": [
    {
     "data": {
      "text/plain": [
       "Stayed     1231\n",
       "Joined      182\n",
       "Churned     113\n",
       "Name: Customer Status, dtype: int64"
      ]
     },
     "execution_count": 21,
     "metadata": {},
     "output_type": "execute_result"
    }
   ],
   "source": [
    "df[(df['Phone Service']=='Yes') &(df['Internet Service']=='No')]['Customer Status'].value_counts()"
   ]
  },
  {
   "cell_type": "code",
   "execution_count": null,
   "id": "ecbde3af",
   "metadata": {
    "papermill": {
     "duration": 0.024288,
     "end_time": "2023-01-22T05:50:59.446869",
     "exception": false,
     "start_time": "2023-01-22T05:50:59.422581",
     "status": "completed"
    },
    "tags": []
   },
   "outputs": [],
   "source": []
  },
  {
   "cell_type": "markdown",
   "id": "b336a588",
   "metadata": {
    "papermill": {
     "duration": 0.024252,
     "end_time": "2023-01-22T05:50:59.496370",
     "exception": false,
     "start_time": "2023-01-22T05:50:59.472118",
     "status": "completed"
    },
    "tags": []
   },
   "source": [
    "#### 2/ How many offers did customer enroll?"
   ]
  },
  {
   "cell_type": "code",
   "execution_count": 22,
   "id": "a9885df2",
   "metadata": {
    "execution": {
     "iopub.execute_input": "2023-01-22T05:50:59.547847Z",
     "iopub.status.busy": "2023-01-22T05:50:59.547460Z",
     "iopub.status.idle": "2023-01-22T05:50:59.562506Z",
     "shell.execute_reply": "2023-01-22T05:50:59.561587Z"
    },
    "papermill": {
     "duration": 0.042959,
     "end_time": "2023-01-22T05:50:59.564536",
     "exception": false,
     "start_time": "2023-01-22T05:50:59.521577",
     "status": "completed"
    },
    "tags": []
   },
   "outputs": [
    {
     "data": {
      "text/plain": [
       "Customer Status  Offer  \n",
       "Churned          None        52\n",
       "                 Offer E     45\n",
       "                 Offer D     10\n",
       "                 Offer B      4\n",
       "                 Offer C      2\n",
       "Joined           None       123\n",
       "                 Offer E     59\n",
       "Stayed           None       678\n",
       "                 Offer B    158\n",
       "                 Offer D    155\n",
       "                 Offer A     92\n",
       "                 Offer C     79\n",
       "                 Offer E     69\n",
       "Name: Offer, dtype: int64"
      ]
     },
     "execution_count": 22,
     "metadata": {},
     "output_type": "execute_result"
    }
   ],
   "source": [
    "#Most churned customers didn't enroll in many offers\n",
    "df[(df['Phone Service']=='Yes') &(df['Internet Service']=='No')]['Offer'].groupby(df['Customer Status']).value_counts()"
   ]
  },
  {
   "cell_type": "markdown",
   "id": "cbf27a59",
   "metadata": {
    "papermill": {
     "duration": 0.0241,
     "end_time": "2023-01-22T05:50:59.612939",
     "exception": false,
     "start_time": "2023-01-22T05:50:59.588839",
     "status": "completed"
    },
    "tags": []
   },
   "source": [
    "#### 3/ Which reasons that most customer churned?"
   ]
  },
  {
   "cell_type": "code",
   "execution_count": 23,
   "id": "39c3c4b5",
   "metadata": {
    "execution": {
     "iopub.execute_input": "2023-01-22T05:50:59.664051Z",
     "iopub.status.busy": "2023-01-22T05:50:59.663282Z",
     "iopub.status.idle": "2023-01-22T05:50:59.678266Z",
     "shell.execute_reply": "2023-01-22T05:50:59.676951Z"
    },
    "papermill": {
     "duration": 0.04365,
     "end_time": "2023-01-22T05:50:59.681151",
     "exception": false,
     "start_time": "2023-01-22T05:50:59.637501",
     "status": "completed"
    },
    "tags": []
   },
   "outputs": [
    {
     "data": {
      "text/plain": [
       "Attitude           42\n",
       "Price              37\n",
       "Competitor         22\n",
       "Dissatisfaction     9\n",
       "Other               3\n",
       "Name: Churn Category, dtype: int64"
      ]
     },
     "execution_count": 23,
     "metadata": {},
     "output_type": "execute_result"
    }
   ],
   "source": [
    "#Most customers churned because of the attitude\n",
    "df[(df['Phone Service']=='Yes') &(df['Internet Service']=='No')]['Churn Category'].value_counts()"
   ]
  },
  {
   "cell_type": "code",
   "execution_count": 24,
   "id": "5a22389d",
   "metadata": {
    "execution": {
     "iopub.execute_input": "2023-01-22T05:50:59.751094Z",
     "iopub.status.busy": "2023-01-22T05:50:59.750652Z",
     "iopub.status.idle": "2023-01-22T05:50:59.762874Z",
     "shell.execute_reply": "2023-01-22T05:50:59.761736Z"
    },
    "papermill": {
     "duration": 0.051735,
     "end_time": "2023-01-22T05:50:59.765642",
     "exception": false,
     "start_time": "2023-01-22T05:50:59.713907",
     "status": "completed"
    },
    "tags": []
   },
   "outputs": [
    {
     "data": {
      "text/plain": [
       "Attitude of support person         37\n",
       "Long distance charges              30\n",
       "Competitor made better offer       22\n",
       "Price too high                      7\n",
       "Service dissatisfaction             5\n",
       "Attitude of service provider        5\n",
       "Limited range of services           3\n",
       "Moved                               3\n",
       "Poor expertise of phone support     1\n",
       "Name: Churn Reason, dtype: int64"
      ]
     },
     "execution_count": 24,
     "metadata": {},
     "output_type": "execute_result"
    }
   ],
   "source": [
    "#Detail reasons are from the attitude of support person and extra charge\n",
    "df[(df['Phone Service']=='Yes') &(df['Internet Service']=='No') &(df['Churn Category'])]['Churn Reason'].value_counts()"
   ]
  },
  {
   "cell_type": "code",
   "execution_count": 25,
   "id": "655c1955",
   "metadata": {
    "execution": {
     "iopub.execute_input": "2023-01-22T05:50:59.839456Z",
     "iopub.status.busy": "2023-01-22T05:50:59.838934Z",
     "iopub.status.idle": "2023-01-22T05:50:59.843504Z",
     "shell.execute_reply": "2023-01-22T05:50:59.842368Z"
    },
    "papermill": {
     "duration": 0.044706,
     "end_time": "2023-01-22T05:50:59.846166",
     "exception": false,
     "start_time": "2023-01-22T05:50:59.801460",
     "status": "completed"
    },
    "tags": []
   },
   "outputs": [],
   "source": [
    "#Multiple line and number of dependents have a correlation.\n",
    "#They might get good offer if high number of dependents"
   ]
  },
  {
   "cell_type": "code",
   "execution_count": 26,
   "id": "c1b3ca1e",
   "metadata": {
    "execution": {
     "iopub.execute_input": "2023-01-22T05:50:59.907074Z",
     "iopub.status.busy": "2023-01-22T05:50:59.906113Z",
     "iopub.status.idle": "2023-01-22T05:50:59.919762Z",
     "shell.execute_reply": "2023-01-22T05:50:59.918865Z"
    },
    "papermill": {
     "duration": 0.043117,
     "end_time": "2023-01-22T05:50:59.922357",
     "exception": false,
     "start_time": "2023-01-22T05:50:59.879240",
     "status": "completed"
    },
    "tags": []
   },
   "outputs": [
    {
     "data": {
      "text/plain": [
       "0    4072\n",
       "1    2971\n",
       "Name: Mul_line_encode, dtype: int64"
      ]
     },
     "execution_count": 26,
     "metadata": {},
     "output_type": "execute_result"
    }
   ],
   "source": [
    "df['Mul_line_encode'] = df['Multiple Lines'].apply(lambda x: 1 if x =='Yes' else 0)\n",
    "df['Mul_line_encode'].value_counts()"
   ]
  },
  {
   "cell_type": "markdown",
   "id": "981965ab",
   "metadata": {
    "papermill": {
     "duration": 0.035599,
     "end_time": "2023-01-22T05:50:59.994683",
     "exception": false,
     "start_time": "2023-01-22T05:50:59.959084",
     "status": "completed"
    },
    "tags": []
   },
   "source": [
    "#### 4/Compare number of dependents of churned and stayed customers"
   ]
  },
  {
   "cell_type": "code",
   "execution_count": 27,
   "id": "8ce993fe",
   "metadata": {
    "execution": {
     "iopub.execute_input": "2023-01-22T05:51:00.064781Z",
     "iopub.status.busy": "2023-01-22T05:51:00.063928Z",
     "iopub.status.idle": "2023-01-22T05:51:00.079943Z",
     "shell.execute_reply": "2023-01-22T05:51:00.078901Z"
    },
    "papermill": {
     "duration": 0.05073,
     "end_time": "2023-01-22T05:51:00.082053",
     "exception": false,
     "start_time": "2023-01-22T05:51:00.031323",
     "status": "completed"
    },
    "tags": []
   },
   "outputs": [
    {
     "data": {
      "text/plain": [
       "0    97\n",
       "3     7\n",
       "1     4\n",
       "2     3\n",
       "7     1\n",
       "5     1\n",
       "Name: Number of Dependents, dtype: int64"
      ]
     },
     "execution_count": 27,
     "metadata": {},
     "output_type": "execute_result"
    }
   ],
   "source": [
    "#Number of dependents of Churn Customers if using phone service only\n",
    "df[(df['Phone Service']=='Yes') &(df['Internet Service']=='No')&(df['Customer Status']=='Churned')]['Number of Dependents'].value_counts()"
   ]
  },
  {
   "cell_type": "code",
   "execution_count": 28,
   "id": "b9efea36",
   "metadata": {
    "execution": {
     "iopub.execute_input": "2023-01-22T05:51:00.137282Z",
     "iopub.status.busy": "2023-01-22T05:51:00.136569Z",
     "iopub.status.idle": "2023-01-22T05:51:00.151815Z",
     "shell.execute_reply": "2023-01-22T05:51:00.150764Z"
    },
    "papermill": {
     "duration": 0.046779,
     "end_time": "2023-01-22T05:51:00.154051",
     "exception": false,
     "start_time": "2023-01-22T05:51:00.107272",
     "status": "completed"
    },
    "tags": []
   },
   "outputs": [
    {
     "data": {
      "text/plain": [
       "0    721\n",
       "1    175\n",
       "2    169\n",
       "3    161\n",
       "4      3\n",
       "5      1\n",
       "7      1\n",
       "Name: Number of Dependents, dtype: int64"
      ]
     },
     "execution_count": 28,
     "metadata": {},
     "output_type": "execute_result"
    }
   ],
   "source": [
    "#Number of dependents of Stayed Customers if using phone service only\n",
    "df[(df['Phone Service']=='Yes') &(df['Internet Service']=='No')&(df['Customer Status']=='Stayed')]['Number of Dependents'].value_counts()"
   ]
  },
  {
   "cell_type": "markdown",
   "id": "79be83de",
   "metadata": {
    "papermill": {
     "duration": 0.025684,
     "end_time": "2023-01-22T05:51:00.205900",
     "exception": false,
     "start_time": "2023-01-22T05:51:00.180216",
     "status": "completed"
    },
    "tags": []
   },
   "source": [
    "#### 5/ Compare Long distance charge from Churned and Stayed Customers"
   ]
  },
  {
   "cell_type": "code",
   "execution_count": 29,
   "id": "890532e8",
   "metadata": {
    "execution": {
     "iopub.execute_input": "2023-01-22T05:51:00.258163Z",
     "iopub.status.busy": "2023-01-22T05:51:00.257275Z",
     "iopub.status.idle": "2023-01-22T05:51:00.271082Z",
     "shell.execute_reply": "2023-01-22T05:51:00.269730Z"
    },
    "papermill": {
     "duration": 0.042434,
     "end_time": "2023-01-22T05:51:00.273246",
     "exception": false,
     "start_time": "2023-01-22T05:51:00.230812",
     "status": "completed"
    },
    "tags": []
   },
   "outputs": [
    {
     "data": {
      "text/plain": [
       "207.99566371681416"
      ]
     },
     "execution_count": 29,
     "metadata": {},
     "output_type": "execute_result"
    }
   ],
   "source": [
    "#average of Extra charge from Long distance from churned customers\n",
    "df[(df['Phone Service']=='Yes') &(df['Internet Service']=='No') &(df['Customer Status']=='Churned')]['Total Long Distance Charges'].mean()"
   ]
  },
  {
   "cell_type": "code",
   "execution_count": 30,
   "id": "73057c42",
   "metadata": {
    "execution": {
     "iopub.execute_input": "2023-01-22T05:51:00.325780Z",
     "iopub.status.busy": "2023-01-22T05:51:00.324982Z",
     "iopub.status.idle": "2023-01-22T05:51:00.338838Z",
     "shell.execute_reply": "2023-01-22T05:51:00.337804Z"
    },
    "papermill": {
     "duration": 0.042714,
     "end_time": "2023-01-22T05:51:00.340936",
     "exception": false,
     "start_time": "2023-01-22T05:51:00.298222",
     "status": "completed"
    },
    "tags": []
   },
   "outputs": [
    {
     "data": {
      "text/plain": [
       "930.2920633631194"
      ]
     },
     "execution_count": 30,
     "metadata": {},
     "output_type": "execute_result"
    }
   ],
   "source": [
    "#average of Extra charge from Long distance from stayed customers\n",
    "df[(df['Phone Service']=='Yes') &(df['Internet Service']=='No') &(df['Customer Status']=='Stayed')]['Total Long Distance Charges'].mean()"
   ]
  },
  {
   "cell_type": "markdown",
   "id": "1f829e2d",
   "metadata": {
    "papermill": {
     "duration": 0.025143,
     "end_time": "2023-01-22T05:51:00.391490",
     "exception": false,
     "start_time": "2023-01-22T05:51:00.366347",
     "status": "completed"
    },
    "tags": []
   },
   "source": [
    "#### 6/ Compare Total charge of Churned and Stayed Customers"
   ]
  },
  {
   "cell_type": "code",
   "execution_count": 31,
   "id": "8a551b41",
   "metadata": {
    "execution": {
     "iopub.execute_input": "2023-01-22T05:51:00.444297Z",
     "iopub.status.busy": "2023-01-22T05:51:00.443623Z",
     "iopub.status.idle": "2023-01-22T05:51:00.456228Z",
     "shell.execute_reply": "2023-01-22T05:51:00.454985Z"
    },
    "papermill": {
     "duration": 0.041513,
     "end_time": "2023-01-22T05:51:00.458486",
     "exception": false,
     "start_time": "2023-01-22T05:51:00.416973",
     "status": "completed"
    },
    "tags": []
   },
   "outputs": [],
   "source": [
    "phone_churned_charge = df[(df['Phone Service']=='Yes') &(df['Internet Service']=='No') &(df['Customer Status']=='Churned')]['Total Charges']\n",
    "phone_churned_tenure_months = df[(df['Phone Service']=='Yes') &(df['Internet Service']=='No') &(df['Customer Status']=='Churned')]['Tenure in Months']"
   ]
  },
  {
   "cell_type": "code",
   "execution_count": 32,
   "id": "8ef5e630",
   "metadata": {
    "execution": {
     "iopub.execute_input": "2023-01-22T05:51:00.511136Z",
     "iopub.status.busy": "2023-01-22T05:51:00.510742Z",
     "iopub.status.idle": "2023-01-22T05:51:00.703155Z",
     "shell.execute_reply": "2023-01-22T05:51:00.702066Z"
    },
    "papermill": {
     "duration": 0.221766,
     "end_time": "2023-01-22T05:51:00.705760",
     "exception": false,
     "start_time": "2023-01-22T05:51:00.483994",
     "status": "completed"
    },
    "tags": []
   },
   "outputs": [
    {
     "data": {
      "image/png": "[encoded data removed]",
      "text/plain": [
       "<Figure size 432x288 with 1 Axes>"
      ]
     },
     "metadata": {
      "needs_background": "light"
     },
     "output_type": "display_data"
    }
   ],
   "source": [
    "plt.scatter(phone_churned_charge,phone_churned_tenure_months,c =\"yellow\",\n",
    "            linewidths = 2,\n",
    "            marker =\"o\",\n",
    "            edgecolor =\"blue\",\n",
    "            s =300)\n",
    "plt.xlabel(\"Churned Total Charge\")\n",
    "plt.ylabel(\"Tenure in Months\")\n",
    "plt.show()"
   ]
  },
  {
   "cell_type": "code",
   "execution_count": 33,
   "id": "3ab5db50",
   "metadata": {
    "execution": {
     "iopub.execute_input": "2023-01-22T05:51:00.765005Z",
     "iopub.status.busy": "2023-01-22T05:51:00.764515Z",
     "iopub.status.idle": "2023-01-22T05:51:00.779349Z",
     "shell.execute_reply": "2023-01-22T05:51:00.778454Z"
    },
    "papermill": {
     "duration": 0.048431,
     "end_time": "2023-01-22T05:51:00.781886",
     "exception": false,
     "start_time": "2023-01-22T05:51:00.733455",
     "status": "completed"
    },
    "tags": []
   },
   "outputs": [],
   "source": [
    "phone_stayed_charge = df[(df['Phone Service']=='Yes') &(df['Internet Service']=='No') &(df['Customer Status']=='Stayed')]['Total Charges']\n",
    "phone_stayed_tenure_months = df[(df['Phone Service']=='Yes') &(df['Internet Service']=='No') &(df['Customer Status']=='Stayed')]['Tenure in Months']"
   ]
  },
  {
   "cell_type": "code",
   "execution_count": 34,
   "id": "6d3a523c",
   "metadata": {
    "execution": {
     "iopub.execute_input": "2023-01-22T05:51:00.836028Z",
     "iopub.status.busy": "2023-01-22T05:51:00.834929Z",
     "iopub.status.idle": "2023-01-22T05:51:01.034047Z",
     "shell.execute_reply": "2023-01-22T05:51:01.033255Z"
    },
    "papermill": {
     "duration": 0.228315,
     "end_time": "2023-01-22T05:51:01.036008",
     "exception": false,
     "start_time": "2023-01-22T05:51:00.807693",
     "status": "completed"
    },
    "tags": []
   },
   "outputs": [
    {
     "data": {
      "image/png": "[encoded data removed]",
      "text/plain": [
       "<Figure size 432x288 with 1 Axes>"
      ]
     },
     "metadata": {
      "needs_background": "light"
     },
     "output_type": "display_data"
    }
   ],
   "source": [
    "plt.scatter(phone_stayed_charge,phone_stayed_tenure_months,c =\"yellow\",\n",
    "            linewidths = 2,\n",
    "            marker =\"^\",\n",
    "            edgecolor =\"blue\",\n",
    "            s =300)\n",
    "plt.xlabel(\"Churned Total Charge\")\n",
    "plt.ylabel(\"Tenure in Months\")\n",
    "plt.show()"
   ]
  },
  {
   "cell_type": "code",
   "execution_count": 35,
   "id": "64e7c230",
   "metadata": {
    "execution": {
     "iopub.execute_input": "2023-01-22T05:51:01.092593Z",
     "iopub.status.busy": "2023-01-22T05:51:01.091635Z",
     "iopub.status.idle": "2023-01-22T05:51:01.316108Z",
     "shell.execute_reply": "2023-01-22T05:51:01.315317Z"
    },
    "papermill": {
     "duration": 0.25479,
     "end_time": "2023-01-22T05:51:01.318386",
     "exception": false,
     "start_time": "2023-01-22T05:51:01.063596",
     "status": "completed"
    },
    "tags": []
   },
   "outputs": [
    {
     "data": {
      "image/png": "[encoded data removed]",
      "text/plain": [
       "<Figure size 432x288 with 1 Axes>"
      ]
     },
     "metadata": {
      "needs_background": "light"
     },
     "output_type": "display_data"
    }
   ],
   "source": [
    "fig = plt.figure()\n",
    "ax1 = fig.add_subplot(111)\n",
    "ax1.scatter(phone_churned_charge,phone_churned_tenure_months,c =\"yellow\",\n",
    "            linewidths = 1,\n",
    "            marker =\"o\",\n",
    "            edgecolor =\"blue\",\n",
    "            s =100,label='Churned')\n",
    "ax1.scatter(phone_stayed_charge,phone_stayed_tenure_months, c =\"red\",\n",
    "            linewidths = 1,\n",
    "            marker =\"^\",\n",
    "            edgecolor =\"red\",\n",
    "            s =100,label='Stayed')\n",
    "plt.legend(loc='upper left')\n",
    "plt.show()"
   ]
  },
  {
   "cell_type": "markdown",
   "id": "2132fa0b",
   "metadata": {
    "papermill": {
     "duration": 0.026732,
     "end_time": "2023-01-22T05:51:01.372185",
     "exception": false,
     "start_time": "2023-01-22T05:51:01.345453",
     "status": "completed"
    },
    "tags": []
   },
   "source": [
    "### Insights for Phone Service Only\n",
    "- Not many customers churned in phone service only. \n",
    "_ Most customers churned because of the attitude from the support person\n",
    "- Most customers don't have many dependents and they have to pay extra charge for long distance\n",
    "- It leads to customers churned in a few first months"
   ]
  },
  {
   "cell_type": "markdown",
   "id": "66f0b6e2",
   "metadata": {
    "papermill": {
     "duration": 0.026222,
     "end_time": "2023-01-22T05:51:01.425331",
     "exception": false,
     "start_time": "2023-01-22T05:51:01.399109",
     "status": "completed"
    },
    "tags": []
   },
   "source": [
    "## Internet Only\n",
    "Only analyzing the Internet service only from customers"
   ]
  },
  {
   "cell_type": "markdown",
   "id": "0b03cb66",
   "metadata": {
    "papermill": {
     "duration": 0.026377,
     "end_time": "2023-01-22T05:51:01.478283",
     "exception": false,
     "start_time": "2023-01-22T05:51:01.451906",
     "status": "completed"
    },
    "tags": []
   },
   "source": [
    "#### 1/ How many customers use Internet service only and group by customer status?"
   ]
  },
  {
   "cell_type": "code",
   "execution_count": 36,
   "id": "cb37bfe0",
   "metadata": {
    "execution": {
     "iopub.execute_input": "2023-01-22T05:51:01.533355Z",
     "iopub.status.busy": "2023-01-22T05:51:01.532959Z",
     "iopub.status.idle": "2023-01-22T05:51:01.544140Z",
     "shell.execute_reply": "2023-01-22T05:51:01.543156Z"
    },
    "papermill": {
     "duration": 0.041298,
     "end_time": "2023-01-22T05:51:01.546286",
     "exception": false,
     "start_time": "2023-01-22T05:51:01.504988",
     "status": "completed"
    },
    "tags": []
   },
   "outputs": [
    {
     "data": {
      "text/plain": [
       "Stayed     474\n",
       "Churned    170\n",
       "Joined      38\n",
       "Name: Customer Status, dtype: int64"
      ]
     },
     "execution_count": 36,
     "metadata": {},
     "output_type": "execute_result"
    }
   ],
   "source": [
    "df[(df['Phone Service']=='No') &(df['Internet Service']=='Yes')]['Customer Status'].value_counts()"
   ]
  },
  {
   "cell_type": "code",
   "execution_count": 37,
   "id": "e565efbc",
   "metadata": {
    "execution": {
     "iopub.execute_input": "2023-01-22T05:51:01.601788Z",
     "iopub.status.busy": "2023-01-22T05:51:01.601367Z",
     "iopub.status.idle": "2023-01-22T05:51:01.610906Z",
     "shell.execute_reply": "2023-01-22T05:51:01.609980Z"
    },
    "papermill": {
     "duration": 0.04009,
     "end_time": "2023-01-22T05:51:01.613151",
     "exception": false,
     "start_time": "2023-01-22T05:51:01.573061",
     "status": "completed"
    },
    "tags": []
   },
   "outputs": [
    {
     "data": {
      "text/plain": [
       "682"
      ]
     },
     "execution_count": 37,
     "metadata": {},
     "output_type": "execute_result"
    }
   ],
   "source": [
    "df[(df['Phone Service']=='No')&(df['Internet Service']=='Yes')]['Customer Status'].shape[0]"
   ]
  },
  {
   "cell_type": "code",
   "execution_count": 38,
   "id": "27cb8f47",
   "metadata": {
    "execution": {
     "iopub.execute_input": "2023-01-22T05:51:01.668136Z",
     "iopub.status.busy": "2023-01-22T05:51:01.667673Z",
     "iopub.status.idle": "2023-01-22T05:51:01.683489Z",
     "shell.execute_reply": "2023-01-22T05:51:01.682699Z"
    },
    "papermill": {
     "duration": 0.045542,
     "end_time": "2023-01-22T05:51:01.685392",
     "exception": false,
     "start_time": "2023-01-22T05:51:01.639850",
     "status": "completed"
    },
    "tags": []
   },
   "outputs": [
    {
     "data": {
      "text/plain": [
       "Stayed     69.501466\n",
       "Churned    24.926686\n",
       "Joined      5.571848\n",
       "Name: Customer Status, dtype: float64"
      ]
     },
     "execution_count": 38,
     "metadata": {},
     "output_type": "execute_result"
    }
   ],
   "source": [
    "((df[(df['Phone Service']=='No')&(df['Internet Service']=='Yes')]['Customer Status'].value_counts())/(df[(df['Phone Service']=='No')&(df['Internet Service']=='Yes')]['Customer Status'].shape[0]))*100"
   ]
  },
  {
   "cell_type": "markdown",
   "id": "a4a8ff51",
   "metadata": {
    "papermill": {
     "duration": 0.026497,
     "end_time": "2023-01-22T05:51:01.738766",
     "exception": false,
     "start_time": "2023-01-22T05:51:01.712269",
     "status": "completed"
    },
    "tags": []
   },
   "source": [
    "#### 2/ How many offers did customer enroll?"
   ]
  },
  {
   "cell_type": "code",
   "execution_count": 39,
   "id": "9f68e6ba",
   "metadata": {
    "execution": {
     "iopub.execute_input": "2023-01-22T05:51:01.793884Z",
     "iopub.status.busy": "2023-01-22T05:51:01.793479Z",
     "iopub.status.idle": "2023-01-22T05:51:01.807028Z",
     "shell.execute_reply": "2023-01-22T05:51:01.806199Z"
    },
    "papermill": {
     "duration": 0.043573,
     "end_time": "2023-01-22T05:51:01.808947",
     "exception": false,
     "start_time": "2023-01-22T05:51:01.765374",
     "status": "completed"
    },
    "tags": []
   },
   "outputs": [
    {
     "data": {
      "text/plain": [
       "Customer Status  Offer  \n",
       "Churned          None        94\n",
       "                 Offer E     51\n",
       "                 Offer B      9\n",
       "                 Offer D      9\n",
       "                 Offer C      6\n",
       "                 Offer A      1\n",
       "Joined           None        21\n",
       "                 Offer E     17\n",
       "Stayed           None       268\n",
       "                 Offer B     68\n",
       "                 Offer A     45\n",
       "                 Offer C     37\n",
       "                 Offer D     36\n",
       "                 Offer E     20\n",
       "Name: Offer, dtype: int64"
      ]
     },
     "execution_count": 39,
     "metadata": {},
     "output_type": "execute_result"
    }
   ],
   "source": [
    "#Most churned customers didn't enroll in many offers\n",
    "df[(df['Phone Service']=='No') &(df['Internet Service']=='Yes')]['Offer'].groupby(df['Customer Status']).value_counts()"
   ]
  },
  {
   "cell_type": "markdown",
   "id": "a8b9b134",
   "metadata": {
    "papermill": {
     "duration": 0.026758,
     "end_time": "2023-01-22T05:51:01.862887",
     "exception": false,
     "start_time": "2023-01-22T05:51:01.836129",
     "status": "completed"
    },
    "tags": []
   },
   "source": [
    "#### 3/ Which reasons that most customer churned?"
   ]
  },
  {
   "cell_type": "code",
   "execution_count": 40,
   "id": "ad3cfadb",
   "metadata": {
    "execution": {
     "iopub.execute_input": "2023-01-22T05:51:01.919247Z",
     "iopub.status.busy": "2023-01-22T05:51:01.918522Z",
     "iopub.status.idle": "2023-01-22T05:51:01.930773Z",
     "shell.execute_reply": "2023-01-22T05:51:01.929246Z"
    },
    "papermill": {
     "duration": 0.043334,
     "end_time": "2023-01-22T05:51:01.933377",
     "exception": false,
     "start_time": "2023-01-22T05:51:01.890043",
     "status": "completed"
    },
    "tags": []
   },
   "outputs": [
    {
     "data": {
      "text/plain": [
       "Competitor         75\n",
       "Dissatisfaction    39\n",
       "Attitude           26\n",
       "Other              16\n",
       "Price              14\n",
       "Name: Churn Category, dtype: int64"
      ]
     },
     "execution_count": 40,
     "metadata": {},
     "output_type": "execute_result"
    }
   ],
   "source": [
    "#Most customers churned because of the competitor\n",
    "df[(df['Phone Service']=='No') &(df['Internet Service']=='Yes')]['Churn Category'].value_counts()"
   ]
  },
  {
   "cell_type": "code",
   "execution_count": 41,
   "id": "b6d53655",
   "metadata": {
    "execution": {
     "iopub.execute_input": "2023-01-22T05:51:01.990927Z",
     "iopub.status.busy": "2023-01-22T05:51:01.990532Z",
     "iopub.status.idle": "2023-01-22T05:51:02.004034Z",
     "shell.execute_reply": "2023-01-22T05:51:02.002689Z"
    },
    "papermill": {
     "duration": 0.044504,
     "end_time": "2023-01-22T05:51:02.006181",
     "exception": false,
     "start_time": "2023-01-22T05:51:01.961677",
     "status": "completed"
    },
    "tags": []
   },
   "outputs": [
    {
     "data": {
      "text/plain": [
       "Competitor had better devices                33\n",
       "Competitor made better offer                 16\n",
       "Attitude of support person                   14\n",
       "Competitor offered more data                 13\n",
       "Competitor offered higher download speeds    13\n",
       "Attitude of service provider                 12\n",
       "Don't know                                   12\n",
       "Product dissatisfaction                       9\n",
       "Network reliability                           7\n",
       "Service dissatisfaction                       7\n",
       "Price too high                                7\n",
       "Limited range of services                     6\n",
       "Lack of self-service on Website               5\n",
       "Poor expertise of online support              5\n",
       "Lack of affordable download/upload speed      3\n",
       "Moved                                         3\n",
       "Long distance charges                         3\n",
       "Deceased                                      1\n",
       "Extra data charges                            1\n",
       "Name: Churn Reason, dtype: int64"
      ]
     },
     "execution_count": 41,
     "metadata": {},
     "output_type": "execute_result"
    }
   ],
   "source": [
    "#Detail reasons are from the competitor had better devices\n",
    "df[(df['Phone Service']=='No') &(df['Internet Service']=='Yes') &(df['Churn Category'])]['Churn Reason'].value_counts()"
   ]
  },
  {
   "cell_type": "markdown",
   "id": "d8cee8f1",
   "metadata": {
    "papermill": {
     "duration": 0.026985,
     "end_time": "2023-01-22T05:51:02.060958",
     "exception": false,
     "start_time": "2023-01-22T05:51:02.033973",
     "status": "completed"
    },
    "tags": []
   },
   "source": [
    "#### 4/Compare number of dependents of churned and stayed customers"
   ]
  },
  {
   "cell_type": "code",
   "execution_count": 42,
   "id": "799a0672",
   "metadata": {
    "execution": {
     "iopub.execute_input": "2023-01-22T05:51:02.117931Z",
     "iopub.status.busy": "2023-01-22T05:51:02.116785Z",
     "iopub.status.idle": "2023-01-22T05:51:02.129629Z",
     "shell.execute_reply": "2023-01-22T05:51:02.128609Z"
    },
    "papermill": {
     "duration": 0.043469,
     "end_time": "2023-01-22T05:51:02.131751",
     "exception": false,
     "start_time": "2023-01-22T05:51:02.088282",
     "status": "completed"
    },
    "tags": []
   },
   "outputs": [
    {
     "data": {
      "text/plain": [
       "0    157\n",
       "2      5\n",
       "3      4\n",
       "1      3\n",
       "6      1\n",
       "Name: Number of Dependents, dtype: int64"
      ]
     },
     "execution_count": 42,
     "metadata": {},
     "output_type": "execute_result"
    }
   ],
   "source": [
    "#Number of dependents of Churn Customers if using Internet service only\n",
    "# Most churned customers don't have many dependents\n",
    "df[(df['Phone Service']=='No') &(df['Internet Service']=='Yes')&(df['Customer Status']=='Churned')]['Number of Dependents'].value_counts()"
   ]
  },
  {
   "cell_type": "code",
   "execution_count": 43,
   "id": "ec46c6f1",
   "metadata": {
    "execution": {
     "iopub.execute_input": "2023-01-22T05:51:02.189551Z",
     "iopub.status.busy": "2023-01-22T05:51:02.188709Z",
     "iopub.status.idle": "2023-01-22T05:51:02.201365Z",
     "shell.execute_reply": "2023-01-22T05:51:02.200471Z"
    },
    "papermill": {
     "duration": 0.044353,
     "end_time": "2023-01-22T05:51:02.203564",
     "exception": false,
     "start_time": "2023-01-22T05:51:02.159211",
     "status": "completed"
    },
    "tags": []
   },
   "outputs": [
    {
     "data": {
      "text/plain": [
       "0    338\n",
       "2     49\n",
       "3     46\n",
       "1     38\n",
       "4      1\n",
       "5      1\n",
       "9      1\n",
       "Name: Number of Dependents, dtype: int64"
      ]
     },
     "execution_count": 43,
     "metadata": {},
     "output_type": "execute_result"
    }
   ],
   "source": [
    "#Number of dependents of Stayed Customers if using Internet service only\n",
    "df[(df['Phone Service']=='No') &(df['Internet Service']=='Yes')&(df['Customer Status']=='Stayed')]['Number of Dependents'].value_counts()"
   ]
  },
  {
   "cell_type": "markdown",
   "id": "e25e69af",
   "metadata": {
    "papermill": {
     "duration": 0.027149,
     "end_time": "2023-01-22T05:51:02.258379",
     "exception": false,
     "start_time": "2023-01-22T05:51:02.231230",
     "status": "completed"
    },
    "tags": []
   },
   "source": [
    "#### 5/ Compare Total Extra Data Charges from Churned and Stayed Customers"
   ]
  },
  {
   "cell_type": "code",
   "execution_count": 44,
   "id": "d6e43945",
   "metadata": {
    "execution": {
     "iopub.execute_input": "2023-01-22T05:51:02.314667Z",
     "iopub.status.busy": "2023-01-22T05:51:02.314242Z",
     "iopub.status.idle": "2023-01-22T05:51:02.326069Z",
     "shell.execute_reply": "2023-01-22T05:51:02.324758Z"
    },
    "papermill": {
     "duration": 0.042448,
     "end_time": "2023-01-22T05:51:02.328176",
     "exception": false,
     "start_time": "2023-01-22T05:51:02.285728",
     "status": "completed"
    },
    "tags": []
   },
   "outputs": [
    {
     "data": {
      "text/plain": [
       "10.058823529411764"
      ]
     },
     "execution_count": 44,
     "metadata": {},
     "output_type": "execute_result"
    }
   ],
   "source": [
    "#Average of Total Extra Data Charges from churned customers\n",
    "df[(df['Phone Service']=='No') &(df['Internet Service']=='Yes') &(df['Customer Status']=='Churned')]['Total Extra Data Charges'].mean()"
   ]
  },
  {
   "cell_type": "code",
   "execution_count": 45,
   "id": "4bda7fd1",
   "metadata": {
    "execution": {
     "iopub.execute_input": "2023-01-22T05:51:02.384925Z",
     "iopub.status.busy": "2023-01-22T05:51:02.384513Z",
     "iopub.status.idle": "2023-01-22T05:51:02.395807Z",
     "shell.execute_reply": "2023-01-22T05:51:02.394773Z"
    },
    "papermill": {
     "duration": 0.042243,
     "end_time": "2023-01-22T05:51:02.397886",
     "exception": false,
     "start_time": "2023-01-22T05:51:02.355643",
     "status": "completed"
    },
    "tags": []
   },
   "outputs": [
    {
     "data": {
      "text/plain": [
       "9.240506329113924"
      ]
     },
     "execution_count": 45,
     "metadata": {},
     "output_type": "execute_result"
    }
   ],
   "source": [
    "#Average of Total Extra Data Charges from stayed customers\n",
    "df[(df['Phone Service']=='No') &(df['Internet Service']=='Yes') &(df['Customer Status']=='Stayed')]['Total Extra Data Charges'].mean()"
   ]
  },
  {
   "cell_type": "markdown",
   "id": "79642428",
   "metadata": {
    "papermill": {
     "duration": 0.027066,
     "end_time": "2023-01-22T05:51:02.452372",
     "exception": false,
     "start_time": "2023-01-22T05:51:02.425306",
     "status": "completed"
    },
    "tags": []
   },
   "source": [
    "#### 6/ Compare Total charge of Churned and Stayed Customers"
   ]
  },
  {
   "cell_type": "code",
   "execution_count": 46,
   "id": "d29ecb6e",
   "metadata": {
    "execution": {
     "iopub.execute_input": "2023-01-22T05:51:02.510837Z",
     "iopub.status.busy": "2023-01-22T05:51:02.509884Z",
     "iopub.status.idle": "2023-01-22T05:51:02.525304Z",
     "shell.execute_reply": "2023-01-22T05:51:02.524286Z"
    },
    "papermill": {
     "duration": 0.047803,
     "end_time": "2023-01-22T05:51:02.527743",
     "exception": false,
     "start_time": "2023-01-22T05:51:02.479940",
     "status": "completed"
    },
    "tags": []
   },
   "outputs": [],
   "source": [
    "internet_churned_charge = df[(df['Phone Service']=='No') &(df['Internet Service']=='Yes') &(df['Customer Status']=='Churned')]['Total Charges']\n",
    "internet_churned_tenure_months = df[(df['Phone Service']=='No') &(df['Internet Service']=='Yes') &(df['Customer Status']=='Churned')]['Tenure in Months']"
   ]
  },
  {
   "cell_type": "code",
   "execution_count": 47,
   "id": "d38da3aa",
   "metadata": {
    "execution": {
     "iopub.execute_input": "2023-01-22T05:51:02.585067Z",
     "iopub.status.busy": "2023-01-22T05:51:02.584340Z",
     "iopub.status.idle": "2023-01-22T05:51:02.782553Z",
     "shell.execute_reply": "2023-01-22T05:51:02.781453Z"
    },
    "papermill": {
     "duration": 0.22923,
     "end_time": "2023-01-22T05:51:02.784836",
     "exception": false,
     "start_time": "2023-01-22T05:51:02.555606",
     "status": "completed"
    },
    "tags": []
   },
   "outputs": [
    {
     "data": {
      "image/png": "[encoded data removed]",
      "text/plain": [
       "<Figure size 432x288 with 1 Axes>"
      ]
     },
     "metadata": {
      "needs_background": "light"
     },
     "output_type": "display_data"
    }
   ],
   "source": [
    "plt.scatter(internet_churned_charge,internet_churned_tenure_months,c =\"yellow\",\n",
    "            linewidths = 2,\n",
    "            marker =\"o\",\n",
    "            edgecolor =\"blue\",\n",
    "            s =300)\n",
    "plt.xlabel(\"Churned Total Charge\")\n",
    "plt.ylabel(\"Tenure in Months\")\n",
    "plt.show()"
   ]
  },
  {
   "cell_type": "code",
   "execution_count": 48,
   "id": "28120bea",
   "metadata": {
    "execution": {
     "iopub.execute_input": "2023-01-22T05:51:02.843665Z",
     "iopub.status.busy": "2023-01-22T05:51:02.843203Z",
     "iopub.status.idle": "2023-01-22T05:51:02.857463Z",
     "shell.execute_reply": "2023-01-22T05:51:02.856464Z"
    },
    "papermill": {
     "duration": 0.046524,
     "end_time": "2023-01-22T05:51:02.859782",
     "exception": false,
     "start_time": "2023-01-22T05:51:02.813258",
     "status": "completed"
    },
    "tags": []
   },
   "outputs": [],
   "source": [
    "internet_stayed_charge = df[(df['Phone Service']=='No') &(df['Internet Service']=='Yes') &(df['Customer Status']=='Stayed')]['Total Charges']\n",
    "internet_stayed_tenure_months = df[(df['Phone Service']=='No') &(df['Internet Service']=='Yes') &(df['Customer Status']=='Stayed')]['Tenure in Months']"
   ]
  },
  {
   "cell_type": "code",
   "execution_count": 49,
   "id": "f65747f2",
   "metadata": {
    "execution": {
     "iopub.execute_input": "2023-01-22T05:51:02.918506Z",
     "iopub.status.busy": "2023-01-22T05:51:02.917691Z",
     "iopub.status.idle": "2023-01-22T05:51:03.104338Z",
     "shell.execute_reply": "2023-01-22T05:51:03.103191Z"
    },
    "papermill": {
     "duration": 0.218528,
     "end_time": "2023-01-22T05:51:03.106657",
     "exception": false,
     "start_time": "2023-01-22T05:51:02.888129",
     "status": "completed"
    },
    "tags": []
   },
   "outputs": [
    {
     "data": {
      "image/png": "[encoded data removed]",
      "text/plain": [
       "<Figure size 432x288 with 1 Axes>"
      ]
     },
     "metadata": {
      "needs_background": "light"
     },
     "output_type": "display_data"
    }
   ],
   "source": [
    "plt.scatter(internet_stayed_charge,internet_stayed_tenure_months,c =\"red\",\n",
    "            linewidths = 2,\n",
    "            marker =\"^\",\n",
    "            edgecolor =\"blue\",\n",
    "            s =300)\n",
    "plt.xlabel(\"Churned Total Charge\")\n",
    "plt.ylabel(\"Tenure in Months\")\n",
    "plt.show()"
   ]
  },
  {
   "cell_type": "code",
   "execution_count": 50,
   "id": "71ad8a31",
   "metadata": {
    "execution": {
     "iopub.execute_input": "2023-01-22T05:51:03.166717Z",
     "iopub.status.busy": "2023-01-22T05:51:03.166012Z",
     "iopub.status.idle": "2023-01-22T05:51:03.372360Z",
     "shell.execute_reply": "2023-01-22T05:51:03.371450Z"
    },
    "papermill": {
     "duration": 0.238828,
     "end_time": "2023-01-22T05:51:03.374804",
     "exception": false,
     "start_time": "2023-01-22T05:51:03.135976",
     "status": "completed"
    },
    "tags": []
   },
   "outputs": [
    {
     "data": {
      "image/png": "[encoded data removed]",
      "text/plain": [
       "<Figure size 432x288 with 1 Axes>"
      ]
     },
     "metadata": {
      "needs_background": "light"
     },
     "output_type": "display_data"
    }
   ],
   "source": [
    "fig = plt.figure()\n",
    "ax1 = fig.add_subplot(111)\n",
    "ax1.scatter(internet_churned_charge,internet_churned_tenure_months,c =\"yellow\",\n",
    "            linewidths = 1,\n",
    "            marker =\"o\",\n",
    "            edgecolor =\"blue\",\n",
    "            s =100,label='Churned')\n",
    "ax1.scatter(internet_stayed_charge,internet_stayed_tenure_months, c =\"red\",\n",
    "            linewidths = 1,\n",
    "            marker =\"^\",\n",
    "            edgecolor =\"red\",\n",
    "            s =100,label='Stayed')\n",
    "plt.legend(loc='upper left')\n",
    "plt.show()"
   ]
  },
  {
   "cell_type": "markdown",
   "id": "1f277580",
   "metadata": {
    "papermill": {
     "duration": 0.028494,
     "end_time": "2023-01-22T05:51:03.432668",
     "exception": false,
     "start_time": "2023-01-22T05:51:03.404174",
     "status": "completed"
    },
    "tags": []
   },
   "source": [
    "### Insights for Internet service only\n",
    "- "
   ]
  },
  {
   "cell_type": "markdown",
   "id": "d3a1d85b",
   "metadata": {
    "papermill": {
     "duration": 0.028476,
     "end_time": "2023-01-22T05:51:03.489800",
     "exception": false,
     "start_time": "2023-01-22T05:51:03.461324",
     "status": "completed"
    },
    "tags": []
   },
   "source": [
    "## Both Phone and Internet Services\n",
    "Analyzing data from customers who used both Phone and Internet Service"
   ]
  },
  {
   "cell_type": "markdown",
   "id": "6f35adfe",
   "metadata": {
    "papermill": {
     "duration": 0.028502,
     "end_time": "2023-01-22T05:51:03.547119",
     "exception": false,
     "start_time": "2023-01-22T05:51:03.518617",
     "status": "completed"
    },
    "tags": []
   },
   "source": [
    "#### 1/ How many customers use Internet service only and group by customer status?"
   ]
  },
  {
   "cell_type": "code",
   "execution_count": 51,
   "id": "981de7a3",
   "metadata": {
    "execution": {
     "iopub.execute_input": "2023-01-22T05:51:03.606683Z",
     "iopub.status.busy": "2023-01-22T05:51:03.606252Z",
     "iopub.status.idle": "2023-01-22T05:51:03.619375Z",
     "shell.execute_reply": "2023-01-22T05:51:03.618597Z"
    },
    "papermill": {
     "duration": 0.045391,
     "end_time": "2023-01-22T05:51:03.621360",
     "exception": false,
     "start_time": "2023-01-22T05:51:03.575969",
     "status": "completed"
    },
    "tags": []
   },
   "outputs": [
    {
     "data": {
      "text/plain": [
       "Stayed     3015\n",
       "Churned    1586\n",
       "Joined      234\n",
       "Name: Customer Status, dtype: int64"
      ]
     },
     "execution_count": 51,
     "metadata": {},
     "output_type": "execute_result"
    }
   ],
   "source": [
    "df[(df['Phone Service']=='Yes') &(df['Internet Service']=='Yes')]['Customer Status'].value_counts()"
   ]
  },
  {
   "cell_type": "code",
   "execution_count": 52,
   "id": "cf0deb56",
   "metadata": {
    "execution": {
     "iopub.execute_input": "2023-01-22T05:51:03.682120Z",
     "iopub.status.busy": "2023-01-22T05:51:03.681365Z",
     "iopub.status.idle": "2023-01-22T05:51:03.691761Z",
     "shell.execute_reply": "2023-01-22T05:51:03.690983Z"
    },
    "papermill": {
     "duration": 0.042824,
     "end_time": "2023-01-22T05:51:03.693674",
     "exception": false,
     "start_time": "2023-01-22T05:51:03.650850",
     "status": "completed"
    },
    "tags": []
   },
   "outputs": [
    {
     "data": {
      "text/plain": [
       "4835"
      ]
     },
     "execution_count": 52,
     "metadata": {},
     "output_type": "execute_result"
    }
   ],
   "source": [
    "#Total customers\n",
    "df[(df['Phone Service']=='Yes') &(df['Internet Service']=='Yes')].shape[0]"
   ]
  },
  {
   "cell_type": "code",
   "execution_count": 53,
   "id": "7a774b4e",
   "metadata": {
    "execution": {
     "iopub.execute_input": "2023-01-22T05:51:03.753748Z",
     "iopub.status.busy": "2023-01-22T05:51:03.752678Z",
     "iopub.status.idle": "2023-01-22T05:51:03.771292Z",
     "shell.execute_reply": "2023-01-22T05:51:03.770324Z"
    },
    "papermill": {
     "duration": 0.050675,
     "end_time": "2023-01-22T05:51:03.773380",
     "exception": false,
     "start_time": "2023-01-22T05:51:03.722705",
     "status": "completed"
    },
    "tags": []
   },
   "outputs": [
    {
     "data": {
      "text/plain": [
       "Stayed     62.357808\n",
       "Churned    32.802482\n",
       "Joined      4.839710\n",
       "Name: Customer Status, dtype: float64"
      ]
     },
     "execution_count": 53,
     "metadata": {},
     "output_type": "execute_result"
    }
   ],
   "source": [
    "#Percentage of the number of customer in each status\n",
    "((df[(df['Phone Service']=='Yes') &(df['Internet Service']=='Yes')]['Customer Status'].value_counts())/(df[(df['Phone Service']=='Yes') &(df['Internet Service']=='Yes')].shape[0]))*100"
   ]
  },
  {
   "cell_type": "markdown",
   "id": "a4bc5097",
   "metadata": {
    "papermill": {
     "duration": 0.028981,
     "end_time": "2023-01-22T05:51:03.832016",
     "exception": false,
     "start_time": "2023-01-22T05:51:03.803035",
     "status": "completed"
    },
    "tags": []
   },
   "source": [
    "#### 2/ How many offers did customer enroll?"
   ]
  },
  {
   "cell_type": "code",
   "execution_count": 54,
   "id": "4e5b5483",
   "metadata": {
    "execution": {
     "iopub.execute_input": "2023-01-22T05:51:03.893192Z",
     "iopub.status.busy": "2023-01-22T05:51:03.892479Z",
     "iopub.status.idle": "2023-01-22T05:51:03.910301Z",
     "shell.execute_reply": "2023-01-22T05:51:03.909223Z"
    },
    "papermill": {
     "duration": 0.051191,
     "end_time": "2023-01-22T05:51:03.912507",
     "exception": false,
     "start_time": "2023-01-22T05:51:03.861316",
     "status": "completed"
    },
    "tags": []
   },
   "outputs": [
    {
     "data": {
      "text/plain": [
       "Customer Status  Offer  \n",
       "Churned          None        905\n",
       "                 Offer E     330\n",
       "                 Offer D     142\n",
       "                 Offer B      88\n",
       "                 Offer C      87\n",
       "                 Offer A      34\n",
       "Joined           None        135\n",
       "                 Offer E      99\n",
       "Stayed           None       1601\n",
       "                 Offer B     497\n",
       "                 Offer A     348\n",
       "                 Offer D     250\n",
       "                 Offer C     204\n",
       "                 Offer E     115\n",
       "Name: Offer, dtype: int64"
      ]
     },
     "execution_count": 54,
     "metadata": {},
     "output_type": "execute_result"
    }
   ],
   "source": [
    "#Most churned customers didn't enroll in many offers\n",
    "df[(df['Phone Service']=='Yes') &(df['Internet Service']=='Yes')]['Offer'].groupby(df['Customer Status']).value_counts()"
   ]
  },
  {
   "cell_type": "markdown",
   "id": "65dce2b7",
   "metadata": {
    "papermill": {
     "duration": 0.029091,
     "end_time": "2023-01-22T05:51:03.971797",
     "exception": false,
     "start_time": "2023-01-22T05:51:03.942706",
     "status": "completed"
    },
    "tags": []
   },
   "source": [
    "#### 3/ Which reasons that most customer churned?"
   ]
  },
  {
   "cell_type": "code",
   "execution_count": 55,
   "id": "2fa75cfa",
   "metadata": {
    "execution": {
     "iopub.execute_input": "2023-01-22T05:51:04.038360Z",
     "iopub.status.busy": "2023-01-22T05:51:04.037602Z",
     "iopub.status.idle": "2023-01-22T05:51:04.051326Z",
     "shell.execute_reply": "2023-01-22T05:51:04.050387Z"
    },
    "papermill": {
     "duration": 0.050932,
     "end_time": "2023-01-22T05:51:04.053679",
     "exception": false,
     "start_time": "2023-01-22T05:51:04.002747",
     "status": "completed"
    },
    "tags": []
   },
   "outputs": [
    {
     "data": {
      "text/plain": [
       "Competitor         75\n",
       "Dissatisfaction    39\n",
       "Attitude           26\n",
       "Other              16\n",
       "Price              14\n",
       "Name: Churn Category, dtype: int64"
      ]
     },
     "execution_count": 55,
     "metadata": {},
     "output_type": "execute_result"
    }
   ],
   "source": [
    "#Most customers churned because of the competitor\n",
    "df[(df['Phone Service']=='No') &(df['Internet Service']=='Yes')]['Churn Category'].value_counts()"
   ]
  },
  {
   "cell_type": "code",
   "execution_count": 56,
   "id": "b2c36cad",
   "metadata": {
    "execution": {
     "iopub.execute_input": "2023-01-22T05:51:04.123944Z",
     "iopub.status.busy": "2023-01-22T05:51:04.123256Z",
     "iopub.status.idle": "2023-01-22T05:51:04.136290Z",
     "shell.execute_reply": "2023-01-22T05:51:04.134956Z"
    },
    "papermill": {
     "duration": 0.049197,
     "end_time": "2023-01-22T05:51:04.138690",
     "exception": false,
     "start_time": "2023-01-22T05:51:04.089493",
     "status": "completed"
    },
    "tags": []
   },
   "outputs": [
    {
     "data": {
      "text/plain": [
       "Competitor had better devices                280\n",
       "Competitor made better offer                 273\n",
       "Attitude of support person                   169\n",
       "Don't know                                   118\n",
       "Competitor offered more data                 104\n",
       "Competitor offered higher download speeds     87\n",
       "Attitude of service provider                  77\n",
       "Product dissatisfaction                       68\n",
       "Network reliability                           65\n",
       "Price too high                                64\n",
       "Service dissatisfaction                       51\n",
       "Moved                                         40\n",
       "Extra data charges                            38\n",
       "Long distance charges                         31\n",
       "Limited range of services                     28\n",
       "Lack of affordable download/upload speed      27\n",
       "Poor expertise of online support              26\n",
       "Lack of self-service on Website               24\n",
       "Poor expertise of phone support               11\n",
       "Deceased                                       5\n",
       "Name: Churn Reason, dtype: int64"
      ]
     },
     "execution_count": 56,
     "metadata": {},
     "output_type": "execute_result"
    }
   ],
   "source": [
    "#Detail reasons are from the competitor had better devices and better offers\n",
    "df[(df['Phone Service']=='Yes') &(df['Internet Service']=='Yes') &(df['Churn Category'])]['Churn Reason'].value_counts()"
   ]
  },
  {
   "cell_type": "markdown",
   "id": "401da6f0",
   "metadata": {
    "papermill": {
     "duration": 0.029253,
     "end_time": "2023-01-22T05:51:04.197880",
     "exception": false,
     "start_time": "2023-01-22T05:51:04.168627",
     "status": "completed"
    },
    "tags": []
   },
   "source": [
    "#### 4/Compare number of dependents of churned and stayed customers"
   ]
  },
  {
   "cell_type": "code",
   "execution_count": 57,
   "id": "6b887e93",
   "metadata": {
    "execution": {
     "iopub.execute_input": "2023-01-22T05:51:04.258422Z",
     "iopub.status.busy": "2023-01-22T05:51:04.258011Z",
     "iopub.status.idle": "2023-01-22T05:51:04.271154Z",
     "shell.execute_reply": "2023-01-22T05:51:04.270020Z"
    },
    "papermill": {
     "duration": 0.045977,
     "end_time": "2023-01-22T05:51:04.273267",
     "exception": false,
     "start_time": "2023-01-22T05:51:04.227290",
     "status": "completed"
    },
    "tags": []
   },
   "outputs": [
    {
     "data": {
      "text/plain": [
       "0    1509\n",
       "1      31\n",
       "2      25\n",
       "3      19\n",
       "4       1\n",
       "5       1\n",
       "Name: Number of Dependents, dtype: int64"
      ]
     },
     "execution_count": 57,
     "metadata": {},
     "output_type": "execute_result"
    }
   ],
   "source": [
    "#Number of dependents of Churn Customers if using both services \n",
    "# Most churned customers don't have many dependents\n",
    "df[(df['Phone Service']=='Yes') &(df['Internet Service']=='Yes')&(df['Customer Status']=='Churned')]['Number of Dependents'].value_counts()"
   ]
  },
  {
   "cell_type": "code",
   "execution_count": 58,
   "id": "ee42820e",
   "metadata": {
    "execution": {
     "iopub.execute_input": "2023-01-22T05:51:04.335205Z",
     "iopub.status.busy": "2023-01-22T05:51:04.334487Z",
     "iopub.status.idle": "2023-01-22T05:51:04.347722Z",
     "shell.execute_reply": "2023-01-22T05:51:04.346620Z"
    },
    "papermill": {
     "duration": 0.046607,
     "end_time": "2023-01-22T05:51:04.349931",
     "exception": false,
     "start_time": "2023-01-22T05:51:04.303324",
     "status": "completed"
    },
    "tags": []
   },
   "outputs": [
    {
     "data": {
      "text/plain": [
       "0    2220\n",
       "1     275\n",
       "2     255\n",
       "3     254\n",
       "5       5\n",
       "4       3\n",
       "6       2\n",
       "8       1\n",
       "Name: Number of Dependents, dtype: int64"
      ]
     },
     "execution_count": 58,
     "metadata": {},
     "output_type": "execute_result"
    }
   ],
   "source": [
    "#Number of dependents of Stayed Customers if using both services\n",
    "df[(df['Phone Service']=='Yes') &(df['Internet Service']=='Yes')&(df['Customer Status']=='Stayed')]['Number of Dependents'].value_counts()"
   ]
  },
  {
   "cell_type": "markdown",
   "id": "7be87938",
   "metadata": {
    "papermill": {
     "duration": 0.030144,
     "end_time": "2023-01-22T05:51:04.409789",
     "exception": false,
     "start_time": "2023-01-22T05:51:04.379645",
     "status": "completed"
    },
    "tags": []
   },
   "source": [
    "#### 5/ Compare Total Extra Data Charges from Churned and Stayed Customers"
   ]
  },
  {
   "cell_type": "code",
   "execution_count": 59,
   "id": "5431372d",
   "metadata": {
    "execution": {
     "iopub.execute_input": "2023-01-22T05:51:04.470937Z",
     "iopub.status.busy": "2023-01-22T05:51:04.470520Z",
     "iopub.status.idle": "2023-01-22T05:51:04.484088Z",
     "shell.execute_reply": "2023-01-22T05:51:04.483284Z"
    },
    "papermill": {
     "duration": 0.046524,
     "end_time": "2023-01-22T05:51:04.486208",
     "exception": false,
     "start_time": "2023-01-22T05:51:04.439684",
     "status": "completed"
    },
    "tags": []
   },
   "outputs": [
    {
     "data": {
      "text/plain": [
       "Total Extra Data Charges         7.358134\n",
       "Total Long Distance Charges    496.524836\n",
       "dtype: float64"
      ]
     },
     "execution_count": 59,
     "metadata": {},
     "output_type": "execute_result"
    }
   ],
   "source": [
    "#Average of Total Extra Data Charges and Long distance charge from churned customers\n",
    "df[(df['Phone Service']=='Yes') &(df['Internet Service']=='Yes') &(df['Customer Status']=='Churned')][['Total Extra Data Charges','Total Long Distance Charges']].mean()"
   ]
  },
  {
   "cell_type": "code",
   "execution_count": 60,
   "id": "ba779c9f",
   "metadata": {
    "execution": {
     "iopub.execute_input": "2023-01-22T05:51:04.548918Z",
     "iopub.status.busy": "2023-01-22T05:51:04.548220Z",
     "iopub.status.idle": "2023-01-22T05:51:04.562690Z",
     "shell.execute_reply": "2023-01-22T05:51:04.561733Z"
    },
    "papermill": {
     "duration": 0.04817,
     "end_time": "2023-01-22T05:51:04.564761",
     "exception": false,
     "start_time": "2023-01-22T05:51:04.516591",
     "status": "completed"
    },
    "tags": []
   },
   "outputs": [
    {
     "data": {
      "text/plain": [
       "Total Extra Data Charges          9.777778\n",
       "Total Long Distance Charges    1095.328514\n",
       "dtype: float64"
      ]
     },
     "execution_count": 60,
     "metadata": {},
     "output_type": "execute_result"
    }
   ],
   "source": [
    "#Average of Total Extra Data Charges and Long distance charge from stayed customers\n",
    "df[(df['Phone Service']=='Yes') &(df['Internet Service']=='Yes') &(df['Customer Status']=='Stayed')][['Total Extra Data Charges','Total Long Distance Charges']].mean()"
   ]
  },
  {
   "cell_type": "markdown",
   "id": "27d9acc4",
   "metadata": {
    "papermill": {
     "duration": 0.029956,
     "end_time": "2023-01-22T05:51:04.624613",
     "exception": false,
     "start_time": "2023-01-22T05:51:04.594657",
     "status": "completed"
    },
    "tags": []
   },
   "source": [
    "#### 6/ Compare Total charge of Churned and Stayed Customers"
   ]
  },
  {
   "cell_type": "code",
   "execution_count": 61,
   "id": "435ae8eb",
   "metadata": {
    "execution": {
     "iopub.execute_input": "2023-01-22T05:51:04.686996Z",
     "iopub.status.busy": "2023-01-22T05:51:04.686055Z",
     "iopub.status.idle": "2023-01-22T05:51:04.699629Z",
     "shell.execute_reply": "2023-01-22T05:51:04.698788Z"
    },
    "papermill": {
     "duration": 0.047179,
     "end_time": "2023-01-22T05:51:04.701845",
     "exception": false,
     "start_time": "2023-01-22T05:51:04.654666",
     "status": "completed"
    },
    "tags": []
   },
   "outputs": [],
   "source": [
    "both_churned_charge = df[(df['Phone Service']=='Yes') &(df['Internet Service']=='Yes') &(df['Customer Status']=='Churned')]['Total Charges']\n",
    "both_churned_tenure_months = df[(df['Phone Service']=='Yes') &(df['Internet Service']=='Yes') &(df['Customer Status']=='Churned')]['Tenure in Months']"
   ]
  },
  {
   "cell_type": "code",
   "execution_count": 62,
   "id": "642f27e3",
   "metadata": {
    "execution": {
     "iopub.execute_input": "2023-01-22T05:51:04.764103Z",
     "iopub.status.busy": "2023-01-22T05:51:04.763428Z",
     "iopub.status.idle": "2023-01-22T05:51:04.956305Z",
     "shell.execute_reply": "2023-01-22T05:51:04.955137Z"
    },
    "papermill": {
     "duration": 0.226888,
     "end_time": "2023-01-22T05:51:04.958781",
     "exception": false,
     "start_time": "2023-01-22T05:51:04.731893",
     "status": "completed"
    },
    "tags": []
   },
   "outputs": [
    {
     "data": {
      "image/png": "[encoded data removed]",
      "text/plain": [
       "<Figure size 432x288 with 1 Axes>"
      ]
     },
     "metadata": {
      "needs_background": "light"
     },
     "output_type": "display_data"
    }
   ],
   "source": [
    "plt.scatter(both_churned_charge,both_churned_tenure_months,c =\"yellow\",\n",
    "            linewidths = 2,\n",
    "            marker =\"o\",\n",
    "            edgecolor =\"blue\",\n",
    "            s =300)\n",
    "plt.xlabel(\"Churned Total Charge\")\n",
    "plt.ylabel(\"Tenure in Months\")\n",
    "plt.show()"
   ]
  },
  {
   "cell_type": "code",
   "execution_count": 63,
   "id": "e18efac6",
   "metadata": {
    "execution": {
     "iopub.execute_input": "2023-01-22T05:51:05.023247Z",
     "iopub.status.busy": "2023-01-22T05:51:05.022550Z",
     "iopub.status.idle": "2023-01-22T05:51:05.037319Z",
     "shell.execute_reply": "2023-01-22T05:51:05.036439Z"
    },
    "papermill": {
     "duration": 0.049993,
     "end_time": "2023-01-22T05:51:05.039549",
     "exception": false,
     "start_time": "2023-01-22T05:51:04.989556",
     "status": "completed"
    },
    "tags": []
   },
   "outputs": [],
   "source": [
    "both_stayed_charge = df[(df['Phone Service']=='Yes') &(df['Internet Service']=='Yes') &(df['Customer Status']=='Stayed')]['Total Charges']\n",
    "both_stayed_tenure_months = df[(df['Phone Service']=='Yes') &(df['Internet Service']=='Yes') &(df['Customer Status']=='Stayed')]['Tenure in Months']"
   ]
  },
  {
   "cell_type": "code",
   "execution_count": 64,
   "id": "7568ac35",
   "metadata": {
    "execution": {
     "iopub.execute_input": "2023-01-22T05:51:05.103995Z",
     "iopub.status.busy": "2023-01-22T05:51:05.103299Z",
     "iopub.status.idle": "2023-01-22T05:51:05.294274Z",
     "shell.execute_reply": "2023-01-22T05:51:05.293139Z"
    },
    "papermill": {
     "duration": 0.226413,
     "end_time": "2023-01-22T05:51:05.296794",
     "exception": false,
     "start_time": "2023-01-22T05:51:05.070381",
     "status": "completed"
    },
    "tags": []
   },
   "outputs": [
    {
     "data": {
      "image/png": "[encoded data removed]",
      "text/plain": [
       "<Figure size 432x288 with 1 Axes>"
      ]
     },
     "metadata": {
      "needs_background": "light"
     },
     "output_type": "display_data"
    }
   ],
   "source": [
    "plt.scatter(both_stayed_charge,both_stayed_tenure_months,c =\"red\",\n",
    "            linewidths = 2,\n",
    "            marker =\"^\",\n",
    "            edgecolor =\"blue\",\n",
    "            s =300)\n",
    "plt.xlabel(\"Churned Total Charge\")\n",
    "plt.ylabel(\"Tenure in Months\")\n",
    "plt.show()"
   ]
  },
  {
   "cell_type": "code",
   "execution_count": 65,
   "id": "9e48c8fa",
   "metadata": {
    "execution": {
     "iopub.execute_input": "2023-01-22T05:51:05.361438Z",
     "iopub.status.busy": "2023-01-22T05:51:05.360758Z",
     "iopub.status.idle": "2023-01-22T05:51:05.571845Z",
     "shell.execute_reply": "2023-01-22T05:51:05.570684Z"
    },
    "papermill": {
     "duration": 0.24618,
     "end_time": "2023-01-22T05:51:05.574115",
     "exception": false,
     "start_time": "2023-01-22T05:51:05.327935",
     "status": "completed"
    },
    "tags": []
   },
   "outputs": [
    {
     "data": {
      "image/png": "[encoded data removed]",
      "text/plain": [
       "<Figure size 432x288 with 1 Axes>"
      ]
     },
     "metadata": {
      "needs_background": "light"
     },
     "output_type": "display_data"
    }
   ],
   "source": [
    "fig = plt.figure()\n",
    "ax1 = fig.add_subplot(111)\n",
    "ax1.scatter(both_churned_charge,both_churned_tenure_months,c =\"yellow\",\n",
    "            linewidths = 1,\n",
    "            marker =\"o\",\n",
    "            edgecolor =\"blue\",\n",
    "            s =100,label='Churned')\n",
    "ax1.scatter(both_stayed_charge,both_stayed_tenure_months, c =\"red\",\n",
    "            linewidths = 1,\n",
    "            marker =\"^\",\n",
    "            edgecolor =\"red\",\n",
    "            s =100,label='Stayed')\n",
    "plt.legend(loc='upper left')\n",
    "plt.show()"
   ]
  },
  {
   "cell_type": "code",
   "execution_count": null,
   "id": "af0581f7",
   "metadata": {
    "papermill": {
     "duration": 0.030881,
     "end_time": "2023-01-22T05:51:05.636526",
     "exception": false,
     "start_time": "2023-01-22T05:51:05.605645",
     "status": "completed"
    },
    "tags": []
   },
   "outputs": [],
   "source": []
  }
 ],
 "metadata": {
  "kernelspec": {
   "display_name": "Python 3",
   "language": "python",
   "name": "python3"
  },
  "language_info": {
   "codemirror_mode": {
    "name": "ipython",
    "version": 3
   },
   "file_extension": ".py",
   "mimetype": "text/x-python",
   "name": "python",
   "nbconvert_exporter": "python",
   "pygments_lexer": "ipython3",
   "version": "3.7.12"
  },
  "papermill": {
   "default_parameters": {},
   "duration": 20.289608,
   "end_time": "2023-01-22T05:51:06.390665",
   "environment_variables": {},
   "exception": null,
   "input_path": "__notebook__.ipynb",
   "output_path": "__notebook__.ipynb",
   "parameters": {},
   "start_time": "2023-01-22T05:50:46.101057",
   "version": "2.3.4"
  }
 },
 "nbformat": 4,
 "nbformat_minor": 5
}
